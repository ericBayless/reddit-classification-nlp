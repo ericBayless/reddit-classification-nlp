{
 "cells": [
  {
   "cell_type": "code",
   "execution_count": 20,
   "metadata": {},
   "outputs": [],
   "source": [
    "import pandas as pd\n",
    "import numpy as np"
   ]
  },
  {
   "cell_type": "markdown",
   "metadata": {},
   "source": [
    "# Cleaning r/Bodyweight Fitness"
   ]
  },
  {
   "cell_type": "code",
   "execution_count": 13,
   "metadata": {},
   "outputs": [],
   "source": [
    "bodyweight_df = pd.read_csv('../Data/bodyweight.csv', index_col=0)"
   ]
  },
  {
   "cell_type": "code",
   "execution_count": 14,
   "metadata": {},
   "outputs": [
    {
     "data": {
      "text/html": [
       "<div>\n",
       "<style scoped>\n",
       "    .dataframe tbody tr th:only-of-type {\n",
       "        vertical-align: middle;\n",
       "    }\n",
       "\n",
       "    .dataframe tbody tr th {\n",
       "        vertical-align: top;\n",
       "    }\n",
       "\n",
       "    .dataframe thead th {\n",
       "        text-align: right;\n",
       "    }\n",
       "</style>\n",
       "<table border=\"1\" class=\"dataframe\">\n",
       "  <thead>\n",
       "    <tr style=\"text-align: right;\">\n",
       "      <th></th>\n",
       "      <th>author</th>\n",
       "      <th>created_utc</th>\n",
       "      <th>num_comments</th>\n",
       "      <th>num_crossposts</th>\n",
       "      <th>score</th>\n",
       "      <th>selftext</th>\n",
       "      <th>subreddit</th>\n",
       "      <th>title</th>\n",
       "    </tr>\n",
       "  </thead>\n",
       "  <tbody>\n",
       "    <tr>\n",
       "      <th>0</th>\n",
       "      <td>Luciferswife4life</td>\n",
       "      <td>1610570566</td>\n",
       "      <td>0</td>\n",
       "      <td>0</td>\n",
       "      <td>1</td>\n",
       "      <td>[removed]</td>\n",
       "      <td>bodyweightfitness</td>\n",
       "      <td>What lower body excercises can I do with bad k...</td>\n",
       "    </tr>\n",
       "    <tr>\n",
       "      <th>1</th>\n",
       "      <td>J22Charles</td>\n",
       "      <td>1610570222</td>\n",
       "      <td>0</td>\n",
       "      <td>0</td>\n",
       "      <td>1</td>\n",
       "      <td>Been doing cardio and resistance for year swit...</td>\n",
       "      <td>bodyweightfitness</td>\n",
       "      <td>Looking for supplement for lean muscle</td>\n",
       "    </tr>\n",
       "  </tbody>\n",
       "</table>\n",
       "</div>"
      ],
      "text/plain": [
       "              author  created_utc  num_comments  num_crossposts  score  \\\n",
       "0  Luciferswife4life   1610570566             0               0      1   \n",
       "1         J22Charles   1610570222             0               0      1   \n",
       "\n",
       "                                            selftext          subreddit  \\\n",
       "0                                          [removed]  bodyweightfitness   \n",
       "1  Been doing cardio and resistance for year swit...  bodyweightfitness   \n",
       "\n",
       "                                               title  \n",
       "0  What lower body excercises can I do with bad k...  \n",
       "1             Looking for supplement for lean muscle  "
      ]
     },
     "execution_count": 14,
     "metadata": {},
     "output_type": "execute_result"
    }
   ],
   "source": [
    "bodyweight_df.head(2)"
   ]
  },
  {
   "cell_type": "code",
   "execution_count": 15,
   "metadata": {},
   "outputs": [
    {
     "name": "stdout",
     "output_type": "stream",
     "text": [
      "<class 'pandas.core.frame.DataFrame'>\n",
      "Int64Index: 10000 entries, 0 to 99\n",
      "Data columns (total 8 columns):\n",
      " #   Column          Non-Null Count  Dtype \n",
      "---  ------          --------------  ----- \n",
      " 0   author          10000 non-null  object\n",
      " 1   created_utc     10000 non-null  int64 \n",
      " 2   num_comments    10000 non-null  int64 \n",
      " 3   num_crossposts  10000 non-null  int64 \n",
      " 4   score           10000 non-null  int64 \n",
      " 5   selftext        9909 non-null   object\n",
      " 6   subreddit       10000 non-null  object\n",
      " 7   title           10000 non-null  object\n",
      "dtypes: int64(4), object(4)\n",
      "memory usage: 703.1+ KB\n"
     ]
    }
   ],
   "source": [
    "bodyweight_df.info()"
   ]
  },
  {
   "cell_type": "code",
   "execution_count": 18,
   "metadata": {},
   "outputs": [],
   "source": [
    "# drop nulls\n",
    "bodyweight_df.dropna(inplace=True)"
   ]
  },
  {
   "cell_type": "code",
   "execution_count": 22,
   "metadata": {},
   "outputs": [],
   "source": [
    "# drop rows where post is removed or deleted\n",
    "bodyweight_df = bodyweight_df.loc[bodyweight_df['selftext'] != '[removed]']\n",
    "bodyweight_df = bodyweight_df.loc[bodyweight_df['selftext'] != '[deleted]']"
   ]
  },
  {
   "cell_type": "code",
   "execution_count": 25,
   "metadata": {},
   "outputs": [
    {
     "name": "stdout",
     "output_type": "stream",
     "text": [
      "<class 'pandas.core.frame.DataFrame'>\n",
      "Int64Index: 7722 entries, 1 to 99\n",
      "Data columns (total 8 columns):\n",
      " #   Column          Non-Null Count  Dtype \n",
      "---  ------          --------------  ----- \n",
      " 0   author          7722 non-null   object\n",
      " 1   created_utc     7722 non-null   int64 \n",
      " 2   num_comments    7722 non-null   int64 \n",
      " 3   num_crossposts  7722 non-null   int64 \n",
      " 4   score           7722 non-null   int64 \n",
      " 5   selftext        7722 non-null   object\n",
      " 6   subreddit       7722 non-null   object\n",
      " 7   title           7722 non-null   object\n",
      "dtypes: int64(4), object(4)\n",
      "memory usage: 543.0+ KB\n"
     ]
    }
   ],
   "source": [
    "bodyweight_df.info()"
   ]
  },
  {
   "cell_type": "code",
   "execution_count": 61,
   "metadata": {},
   "outputs": [],
   "source": [
    "# drop rows containing the subreddit name in the post\n",
    "bodyweight_df = bodyweight_df[~bodyweight_df['selftext'].str.contains(f\"r/{bodyweight_df.iloc[0,6]}\")]"
   ]
  },
  {
   "cell_type": "code",
   "execution_count": 62,
   "metadata": {},
   "outputs": [
    {
     "name": "stdout",
     "output_type": "stream",
     "text": [
      "<class 'pandas.core.frame.DataFrame'>\n",
      "Int64Index: 7392 entries, 1 to 99\n",
      "Data columns (total 8 columns):\n",
      " #   Column          Non-Null Count  Dtype \n",
      "---  ------          --------------  ----- \n",
      " 0   author          7392 non-null   object\n",
      " 1   created_utc     7392 non-null   int64 \n",
      " 2   num_comments    7392 non-null   int64 \n",
      " 3   num_crossposts  7392 non-null   int64 \n",
      " 4   score           7392 non-null   int64 \n",
      " 5   selftext        7392 non-null   object\n",
      " 6   subreddit       7392 non-null   object\n",
      " 7   title           7392 non-null   object\n",
      "dtypes: int64(4), object(4)\n",
      "memory usage: 519.8+ KB\n"
     ]
    }
   ],
   "source": [
    "bodyweight_df.info()"
   ]
  },
  {
   "cell_type": "code",
   "execution_count": 85,
   "metadata": {},
   "outputs": [],
   "source": [
    "# drop rows where post is shorter than title\n",
    "# this gets rid of posts that were just media with little collateral\n",
    "bodyweight_df = bodyweight_df[bodyweight_df['selftext'].str.len() >= bodyweight_df['title'].str.len()]"
   ]
  },
  {
   "cell_type": "code",
   "execution_count": 86,
   "metadata": {},
   "outputs": [
    {
     "name": "stdout",
     "output_type": "stream",
     "text": [
      "<class 'pandas.core.frame.DataFrame'>\n",
      "Int64Index: 7052 entries, 1 to 99\n",
      "Data columns (total 8 columns):\n",
      " #   Column          Non-Null Count  Dtype \n",
      "---  ------          --------------  ----- \n",
      " 0   author          7052 non-null   object\n",
      " 1   created_utc     7052 non-null   int64 \n",
      " 2   num_comments    7052 non-null   int64 \n",
      " 3   num_crossposts  7052 non-null   int64 \n",
      " 4   score           7052 non-null   int64 \n",
      " 5   selftext        7052 non-null   object\n",
      " 6   subreddit       7052 non-null   object\n",
      " 7   title           7052 non-null   object\n",
      "dtypes: int64(4), object(4)\n",
      "memory usage: 495.8+ KB\n"
     ]
    }
   ],
   "source": [
    "bodyweight_df.info()"
   ]
  },
  {
   "cell_type": "code",
   "execution_count": 87,
   "metadata": {},
   "outputs": [],
   "source": [
    "#saving cleaned data\n",
    "bodyweight_df.to_csv('../Data/bodyweight_clean.csv')"
   ]
  },
  {
   "cell_type": "code",
   "execution_count": 91,
   "metadata": {},
   "outputs": [],
   "source": [
    "# function with all the steps used to clean r/bodyweightfitness\n",
    "def clean_data(df):\n",
    "    \"\"\"Remove unwanted rows from a dataframe of subreddit posts.\n",
    "    \n",
    "    For this function, the dataframe must have a column named\n",
    "    'selftext' with the text of the subreddit post.  It must\n",
    "    also contain the name of the subreddit in column of index 6.\n",
    "    This function will drop rows with the following conditions:\n",
    "    - Rows with null values\n",
    "    - Rows with removed or deleted posts\n",
    "    - Rows containing the subreddit name in the post\n",
    "    - Rows where the post is shorter than the title\n",
    "    \n",
    "    args:\n",
    "        df (pandas dataframe): dataframe to clean\n",
    "        \n",
    "    returns:\n",
    "        pandas dataframe: cleaned dataframe\n",
    "    \"\"\"\n",
    "    # drop nulls\n",
    "    df.dropna(inplace=True)\n",
    "    \n",
    "    # drop rows with removed or deleted posts\n",
    "    df = df.loc[df['selftext'] != '[removed]']\n",
    "    df = df.loc[df['selftext'] != '[deleted]']\n",
    "    \n",
    "    # drop rows containing the subreddit name in the post\n",
    "    df = df[~df['selftext'].str.contains(f\"r/{df.iloc[0,6]}\")]\n",
    "    \n",
    "    # drop rows where post is shorter than title\n",
    "    df = df[df['selftext'].str.len() >= df['title'].str.len()]\n",
    "    \n",
    "    # reset the index\n",
    "    df.reset_index(drop=True)\n",
    "    \n",
    "    return df"
   ]
  },
  {
   "cell_type": "markdown",
   "metadata": {},
   "source": [
    "# Cleaning r/Fitness"
   ]
  },
  {
   "cell_type": "code",
   "execution_count": 94,
   "metadata": {},
   "outputs": [],
   "source": [
    "fitness_df = pd.read_csv('../Data/fitness.csv', index_col=0)"
   ]
  },
  {
   "cell_type": "code",
   "execution_count": 95,
   "metadata": {},
   "outputs": [
    {
     "data": {
      "text/html": [
       "<div>\n",
       "<style scoped>\n",
       "    .dataframe tbody tr th:only-of-type {\n",
       "        vertical-align: middle;\n",
       "    }\n",
       "\n",
       "    .dataframe tbody tr th {\n",
       "        vertical-align: top;\n",
       "    }\n",
       "\n",
       "    .dataframe thead th {\n",
       "        text-align: right;\n",
       "    }\n",
       "</style>\n",
       "<table border=\"1\" class=\"dataframe\">\n",
       "  <thead>\n",
       "    <tr style=\"text-align: right;\">\n",
       "      <th></th>\n",
       "      <th>author</th>\n",
       "      <th>created_utc</th>\n",
       "      <th>num_comments</th>\n",
       "      <th>num_crossposts</th>\n",
       "      <th>score</th>\n",
       "      <th>selftext</th>\n",
       "      <th>subreddit</th>\n",
       "      <th>title</th>\n",
       "    </tr>\n",
       "  </thead>\n",
       "  <tbody>\n",
       "    <tr>\n",
       "      <th>0</th>\n",
       "      <td>bigjungus11</td>\n",
       "      <td>1610566951</td>\n",
       "      <td>1</td>\n",
       "      <td>0</td>\n",
       "      <td>1</td>\n",
       "      <td>[removed]</td>\n",
       "      <td>Fitness</td>\n",
       "      <td>Skinnyfat, should I eat more? Less?</td>\n",
       "    </tr>\n",
       "    <tr>\n",
       "      <th>1</th>\n",
       "      <td>Oz390</td>\n",
       "      <td>1610566886</td>\n",
       "      <td>0</td>\n",
       "      <td>0</td>\n",
       "      <td>1</td>\n",
       "      <td>[removed]</td>\n",
       "      <td>Fitness</td>\n",
       "      <td>Starting a new fitness programme</td>\n",
       "    </tr>\n",
       "  </tbody>\n",
       "</table>\n",
       "</div>"
      ],
      "text/plain": [
       "        author  created_utc  num_comments  num_crossposts  score   selftext  \\\n",
       "0  bigjungus11   1610566951             1               0      1  [removed]   \n",
       "1        Oz390   1610566886             0               0      1  [removed]   \n",
       "\n",
       "  subreddit                                title  \n",
       "0   Fitness  Skinnyfat, should I eat more? Less?  \n",
       "1   Fitness     Starting a new fitness programme  "
      ]
     },
     "execution_count": 95,
     "metadata": {},
     "output_type": "execute_result"
    }
   ],
   "source": [
    "fitness_df.head(2)"
   ]
  },
  {
   "cell_type": "code",
   "execution_count": 96,
   "metadata": {},
   "outputs": [
    {
     "name": "stdout",
     "output_type": "stream",
     "text": [
      "<class 'pandas.core.frame.DataFrame'>\n",
      "Int64Index: 26000 entries, 0 to 99\n",
      "Data columns (total 8 columns):\n",
      " #   Column          Non-Null Count  Dtype \n",
      "---  ------          --------------  ----- \n",
      " 0   author          26000 non-null  object\n",
      " 1   created_utc     26000 non-null  int64 \n",
      " 2   num_comments    26000 non-null  int64 \n",
      " 3   num_crossposts  26000 non-null  int64 \n",
      " 4   score           26000 non-null  int64 \n",
      " 5   selftext        25622 non-null  object\n",
      " 6   subreddit       26000 non-null  object\n",
      " 7   title           26000 non-null  object\n",
      "dtypes: int64(4), object(4)\n",
      "memory usage: 1.8+ MB\n"
     ]
    }
   ],
   "source": [
    "fitness_df.info()"
   ]
  },
  {
   "cell_type": "code",
   "execution_count": 97,
   "metadata": {},
   "outputs": [],
   "source": [
    "# apply same cleaning as r/bodyweightfitness using function\n",
    "fitness_df_clean = clean_data(fitness_df)"
   ]
  },
  {
   "cell_type": "code",
   "execution_count": 98,
   "metadata": {},
   "outputs": [
    {
     "name": "stdout",
     "output_type": "stream",
     "text": [
      "<class 'pandas.core.frame.DataFrame'>\n",
      "Int64Index: 6711 entries, 49 to 98\n",
      "Data columns (total 8 columns):\n",
      " #   Column          Non-Null Count  Dtype \n",
      "---  ------          --------------  ----- \n",
      " 0   author          6711 non-null   object\n",
      " 1   created_utc     6711 non-null   int64 \n",
      " 2   num_comments    6711 non-null   int64 \n",
      " 3   num_crossposts  6711 non-null   int64 \n",
      " 4   score           6711 non-null   int64 \n",
      " 5   selftext        6711 non-null   object\n",
      " 6   subreddit       6711 non-null   object\n",
      " 7   title           6711 non-null   object\n",
      "dtypes: int64(4), object(4)\n",
      "memory usage: 471.9+ KB\n"
     ]
    }
   ],
   "source": [
    "fitness_df_clean.info()"
   ]
  },
  {
   "cell_type": "code",
   "execution_count": 99,
   "metadata": {},
   "outputs": [],
   "source": [
    "# saving cleaned data\n",
    "fitness_df_clean.to_csv('../Data/fitness_clean.csv')"
   ]
  },
  {
   "cell_type": "code",
   "execution_count": null,
   "metadata": {},
   "outputs": [],
   "source": []
  }
 ],
 "metadata": {
  "kernelspec": {
   "display_name": "Python 3",
   "language": "python",
   "name": "python3"
  },
  "language_info": {
   "codemirror_mode": {
    "name": "ipython",
    "version": 3
   },
   "file_extension": ".py",
   "mimetype": "text/x-python",
   "name": "python",
   "nbconvert_exporter": "python",
   "pygments_lexer": "ipython3",
   "version": "3.8.2"
  }
 },
 "nbformat": 4,
 "nbformat_minor": 4
}
