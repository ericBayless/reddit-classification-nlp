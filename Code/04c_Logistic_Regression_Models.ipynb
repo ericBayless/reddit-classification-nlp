{
 "cells": [
  {
   "cell_type": "code",
   "execution_count": 118,
   "metadata": {},
   "outputs": [],
   "source": [
    "import pandas as pd\n",
    "import warnings\n",
    "import re\n",
    "\n",
    "from sklearn.feature_extraction.text import CountVectorizer, TfidfVectorizer\n",
    "from sklearn.preprocessing import StandardScaler\n",
    "from sklearn.pipeline import make_pipeline\n",
    "from sklearn.model_selection import train_test_split, GridSearchCV\n",
    "from sklearn.linear_model import LogisticRegression\n",
    "\n",
    "from nltk.tokenize import word_tokenize\n",
    "from nltk.stem import WordNetLemmatizer, PorterStemmer\n",
    "from nltk.corpus import stopwords\n",
    "\n",
    "import matplotlib.pyplot as plt\n",
    "from sklearn.metrics import plot_confusion_matrix"
   ]
  },
  {
   "cell_type": "code",
   "execution_count": 49,
   "metadata": {},
   "outputs": [],
   "source": [
    "#Ignoring warnings about memory from running gridsearch with n_jobs=-1\n",
    "warnings.filterwarnings('ignore')"
   ]
  },
  {
   "cell_type": "code",
   "execution_count": 6,
   "metadata": {},
   "outputs": [],
   "source": [
    "fitness_df = pd.read_csv('../Data/fitness_clean.csv', index_col=0)\n",
    "bodyweight_df = pd.read_csv('../Data/bodyweight_clean.csv', index_col=0)\n",
    "\n",
    "all_posts = pd.concat([fitness_df, bodyweight_df], ignore_index=True)"
   ]
  },
  {
   "cell_type": "code",
   "execution_count": 7,
   "metadata": {},
   "outputs": [
    {
     "data": {
      "text/plain": [
       "bodyweightfitness    0.512388\n",
       "Fitness              0.487612\n",
       "Name: subreddit, dtype: float64"
      ]
     },
     "execution_count": 7,
     "metadata": {},
     "output_type": "execute_result"
    }
   ],
   "source": [
    "# null model accuracy\n",
    "all_posts['subreddit'].value_counts(normalize=True)"
   ]
  },
  {
   "cell_type": "code",
   "execution_count": 8,
   "metadata": {},
   "outputs": [],
   "source": [
    "X = all_posts['selftext']\n",
    "y = all_posts['subreddit']\n",
    "\n",
    "X_train, X_test, y_train, y_test = train_test_split(X, y)"
   ]
  },
  {
   "cell_type": "markdown",
   "metadata": {},
   "source": [
    "# Grid Search Basic Logistic Regression"
   ]
  },
  {
   "cell_type": "code",
   "execution_count": 12,
   "metadata": {},
   "outputs": [],
   "source": [
    "pipe = make_pipeline(TfidfVectorizer(), StandardScaler(with_mean=False), \n",
    "                     LogisticRegression(max_iter=10_000))\n",
    "params = {\n",
    "    'tfidfvectorizer__max_features': [400, 800, 1000],\n",
    "    'tfidfvectorizer__ngram_range': [(1,1), (1,2)],\n",
    "    'tfidfvectorizer__stop_words': [None, 'english'],\n",
    "    'logisticregression__C': [0.001, 0.01, 0.1]\n",
    "}\n",
    "grid = GridSearchCV(pipe, params, n_jobs=-1)"
   ]
  },
  {
   "cell_type": "code",
   "execution_count": 13,
   "metadata": {},
   "outputs": [
    {
     "data": {
      "text/plain": [
       "GridSearchCV(estimator=Pipeline(steps=[('tfidfvectorizer', TfidfVectorizer()),\n",
       "                                       ('standardscaler',\n",
       "                                        StandardScaler(with_mean=False)),\n",
       "                                       ('logisticregression',\n",
       "                                        LogisticRegression(max_iter=10000))]),\n",
       "             param_grid={'logisticregression__C': [0.001, 0.01, 0.1],\n",
       "                         'tfidfvectorizer__max_features': [400, 800, 1000],\n",
       "                         'tfidfvectorizer__ngram_range': [(1, 1), (1, 2)],\n",
       "                         'tfidfvectorizer__stop_words': [None, 'english']})"
      ]
     },
     "execution_count": 13,
     "metadata": {},
     "output_type": "execute_result"
    }
   ],
   "source": [
    "grid.fit(X_train, y_train)"
   ]
  },
  {
   "cell_type": "code",
   "execution_count": 14,
   "metadata": {},
   "outputs": [
    {
     "data": {
      "text/plain": [
       "0.8273590389459408"
      ]
     },
     "execution_count": 14,
     "metadata": {},
     "output_type": "execute_result"
    }
   ],
   "source": [
    "grid.score(X_train, y_train)"
   ]
  },
  {
   "cell_type": "code",
   "execution_count": 15,
   "metadata": {},
   "outputs": [
    {
     "data": {
      "text/plain": [
       "0.7907585004359198"
      ]
     },
     "execution_count": 15,
     "metadata": {},
     "output_type": "execute_result"
    }
   ],
   "source": [
    "grid.score(X_test, y_test)"
   ]
  },
  {
   "cell_type": "code",
   "execution_count": 16,
   "metadata": {},
   "outputs": [
    {
     "data": {
      "text/plain": [
       "{'logisticregression__C': 0.001,\n",
       " 'tfidfvectorizer__max_features': 1000,\n",
       " 'tfidfvectorizer__ngram_range': (1, 2),\n",
       " 'tfidfvectorizer__stop_words': 'english'}"
      ]
     },
     "execution_count": 16,
     "metadata": {},
     "output_type": "execute_result"
    }
   ],
   "source": [
    "grid.best_params_"
   ]
  },
  {
   "cell_type": "code",
   "execution_count": 66,
   "metadata": {},
   "outputs": [],
   "source": [
    "imports = pd.DataFrame(\n",
    "    {\n",
    "        'feature': grid.best_estimator_.named_steps['tfidfvectorizer'].get_feature_names(),\n",
    "        'coef': grid.best_estimator_.named_steps['logisticregression'].coef_[0]\n",
    "    }\n",
    ")"
   ]
  },
  {
   "cell_type": "code",
   "execution_count": 67,
   "metadata": {},
   "outputs": [
    {
     "data": {
      "text/html": [
       "<div>\n",
       "<style scoped>\n",
       "    .dataframe tbody tr th:only-of-type {\n",
       "        vertical-align: middle;\n",
       "    }\n",
       "\n",
       "    .dataframe tbody tr th {\n",
       "        vertical-align: top;\n",
       "    }\n",
       "\n",
       "    .dataframe thead th {\n",
       "        text-align: right;\n",
       "    }\n",
       "</style>\n",
       "<table border=\"1\" class=\"dataframe\">\n",
       "  <thead>\n",
       "    <tr style=\"text-align: right;\">\n",
       "      <th></th>\n",
       "      <th>749</th>\n",
       "      <th>141</th>\n",
       "      <th>121</th>\n",
       "      <th>189</th>\n",
       "      <th>677</th>\n",
       "      <th>741</th>\n",
       "      <th>684</th>\n",
       "      <th>680</th>\n",
       "      <th>916</th>\n",
       "      <th>641</th>\n",
       "    </tr>\n",
       "  </thead>\n",
       "  <tbody>\n",
       "    <tr>\n",
       "      <th>feature</th>\n",
       "      <td>rr</td>\n",
       "      <td>calisthenics</td>\n",
       "      <td>bodyweight</td>\n",
       "      <td>covid</td>\n",
       "      <td>pull</td>\n",
       "      <td>rings</td>\n",
       "      <td>pullups</td>\n",
       "      <td>pull ups</td>\n",
       "      <td>ups</td>\n",
       "      <td>planche</td>\n",
       "    </tr>\n",
       "    <tr>\n",
       "      <th>coef</th>\n",
       "      <td>0.196903</td>\n",
       "      <td>0.182199</td>\n",
       "      <td>0.175058</td>\n",
       "      <td>0.16813</td>\n",
       "      <td>0.151902</td>\n",
       "      <td>0.148899</td>\n",
       "      <td>0.125961</td>\n",
       "      <td>0.118797</td>\n",
       "      <td>0.117905</td>\n",
       "      <td>0.116415</td>\n",
       "    </tr>\n",
       "  </tbody>\n",
       "</table>\n",
       "</div>"
      ],
      "text/plain": [
       "              749           141         121      189       677       741  \\\n",
       "feature        rr  calisthenics  bodyweight    covid      pull     rings   \n",
       "coef     0.196903      0.182199    0.175058  0.16813  0.151902  0.148899   \n",
       "\n",
       "              684       680       916       641  \n",
       "feature   pullups  pull ups       ups   planche  \n",
       "coef     0.125961  0.118797  0.117905  0.116415  "
      ]
     },
     "execution_count": 67,
     "metadata": {},
     "output_type": "execute_result"
    }
   ],
   "source": [
    "imports.sort_values(by='coef', ascending=False).head(10).T"
   ]
  },
  {
   "cell_type": "code",
   "execution_count": 71,
   "metadata": {},
   "outputs": [
    {
     "data": {
      "text/html": [
       "<div>\n",
       "<style scoped>\n",
       "    .dataframe tbody tr th:only-of-type {\n",
       "        vertical-align: middle;\n",
       "    }\n",
       "\n",
       "    .dataframe tbody tr th {\n",
       "        vertical-align: top;\n",
       "    }\n",
       "\n",
       "    .dataframe thead th {\n",
       "        text-align: right;\n",
       "    }\n",
       "</style>\n",
       "<table border=\"1\" class=\"dataframe\">\n",
       "  <thead>\n",
       "    <tr style=\"text-align: right;\">\n",
       "      <th></th>\n",
       "      <th>530</th>\n",
       "      <th>169</th>\n",
       "      <th>492</th>\n",
       "      <th>300</th>\n",
       "      <th>205</th>\n",
       "      <th>494</th>\n",
       "      <th>493</th>\n",
       "      <th>99</th>\n",
       "      <th>363</th>\n",
       "      <th>416</th>\n",
       "    </tr>\n",
       "  </thead>\n",
       "  <tbody>\n",
       "    <tr>\n",
       "      <th>feature</th>\n",
       "      <td>machine</td>\n",
       "      <td>com</td>\n",
       "      <td>lift</td>\n",
       "      <td>fitness</td>\n",
       "      <td>deadlift</td>\n",
       "      <td>lifts</td>\n",
       "      <td>lifting</td>\n",
       "      <td>bench</td>\n",
       "      <td>gym</td>\n",
       "      <td>https</td>\n",
       "    </tr>\n",
       "    <tr>\n",
       "      <th>coef</th>\n",
       "      <td>-0.0761092</td>\n",
       "      <td>-0.0832037</td>\n",
       "      <td>-0.0832856</td>\n",
       "      <td>-0.0904352</td>\n",
       "      <td>-0.0935666</td>\n",
       "      <td>-0.100671</td>\n",
       "      <td>-0.121146</td>\n",
       "      <td>-0.135526</td>\n",
       "      <td>-0.14653</td>\n",
       "      <td>-0.159617</td>\n",
       "    </tr>\n",
       "  </tbody>\n",
       "</table>\n",
       "</div>"
      ],
      "text/plain": [
       "               530        169        492        300        205       494  \\\n",
       "feature    machine        com       lift    fitness   deadlift     lifts   \n",
       "coef    -0.0761092 -0.0832037 -0.0832856 -0.0904352 -0.0935666 -0.100671   \n",
       "\n",
       "              493       99       363       416  \n",
       "feature   lifting     bench      gym     https  \n",
       "coef    -0.121146 -0.135526 -0.14653 -0.159617  "
      ]
     },
     "execution_count": 71,
     "metadata": {},
     "output_type": "execute_result"
    }
   ],
   "source": [
    "imports.sort_values(by='coef', ascending=False).tail(10).T"
   ]
  },
  {
   "cell_type": "code",
   "execution_count": 119,
   "metadata": {},
   "outputs": [
    {
     "data": {
      "image/png": "[encoded data removed]",
      "text/plain": [
       "<Figure size 432x288 with 2 Axes>"
      ]
     },
     "metadata": {
      "needs_background": "light"
     },
     "output_type": "display_data"
    }
   ],
   "source": [
    "plot_confusion_matrix(grid, X_test, y_test);\n",
    "plt.savefig('../Presentation/Images/confusion_matrix.png')"
   ]
  },
  {
   "cell_type": "markdown",
   "metadata": {},
   "source": [
    "#### Results\n",
    "The basic logistic regression model without preprocessing scores similarly to other models.  Without preprocessing some unwanted terms such as URL's are showing up highly correlated to fitness especially.  As can be seen from the confusion matrix, the errors are fairly well balanced with slightly more posts being predicted as fitness which should be bodyweightfitness.  This is logical since it is reasonable that a post made in bodyweightfitness could also apply to the more general fitness subreddit."
   ]
  },
  {
   "cell_type": "markdown",
   "metadata": {},
   "source": [
    "## Custom Preprocessing"
   ]
  },
  {
   "cell_type": "code",
   "execution_count": 45,
   "metadata": {},
   "outputs": [],
   "source": [
    "# using isalnum method to remove special characters from\n",
    "# https://stackoverflow.com/questions/5843518/remove-all-special-characters-punctuation-and-spaces-from-string\n",
    "\n",
    "def my_preprocessor(text):\n",
    "    \"\"\"Process text for use with vectorizer.\n",
    "    \n",
    "    Takes in a string and modifies it for use with count or tf-idf\n",
    "    vectorizer.  It will set all characters to lowercase, remove and urls,\n",
    "    remove the apostrophe from contractions, and replace non-alphanumeric\n",
    "    characters with a space.\n",
    "    \n",
    "    Args:\n",
    "        text (string): string to be processed\n",
    "    \n",
    "    Returns:\n",
    "        string: processed text string\n",
    "    \"\"\"\n",
    "    text = text.lower()\n",
    "    text = re.sub('http\\S+|www.\\S+', '', text)\n",
    "    text = text.replace(\"'\", '')\n",
    "    text = ''.join(w if w.isalnum() or w == ' ' else ' ' for w in text)\n",
    "    \n",
    "    return text"
   ]
  },
  {
   "cell_type": "code",
   "execution_count": 50,
   "metadata": {},
   "outputs": [],
   "source": [
    "pipe2 = make_pipeline(TfidfVectorizer(preprocessor=my_preprocessor), \n",
    "                      StandardScaler(with_mean=False), \n",
    "                      LogisticRegression(max_iter=10_000))\n",
    "grid2 = GridSearchCV(pipe2, params, n_jobs=-1)"
   ]
  },
  {
   "cell_type": "code",
   "execution_count": 51,
   "metadata": {},
   "outputs": [
    {
     "data": {
      "text/plain": [
       "GridSearchCV(estimator=Pipeline(steps=[('tfidfvectorizer',\n",
       "                                        TfidfVectorizer(preprocessor=<function my_preprocessor at 0x7fd6b0194430>)),\n",
       "                                       ('standardscaler',\n",
       "                                        StandardScaler(with_mean=False)),\n",
       "                                       ('logisticregression',\n",
       "                                        LogisticRegression(max_iter=10000))]),\n",
       "             n_jobs=-1,\n",
       "             param_grid={'logisticregression__C': [0.001, 0.01, 0.1],\n",
       "                         'tfidfvectorizer__max_features': [400, 800, 1000],\n",
       "                         'tfidfvectorizer__ngram_range': [(1, 1), (1, 2)],\n",
       "                         'tfidfvectorizer__stop_words': [None, 'english']})"
      ]
     },
     "execution_count": 51,
     "metadata": {},
     "output_type": "execute_result"
    }
   ],
   "source": [
    "grid2.fit(X_train, y_train)"
   ]
  },
  {
   "cell_type": "code",
   "execution_count": 52,
   "metadata": {},
   "outputs": [
    {
     "data": {
      "text/plain": [
       "0.8223212555706259"
      ]
     },
     "execution_count": 52,
     "metadata": {},
     "output_type": "execute_result"
    }
   ],
   "source": [
    "grid2.score(X_train, y_train)"
   ]
  },
  {
   "cell_type": "code",
   "execution_count": 53,
   "metadata": {},
   "outputs": [
    {
     "data": {
      "text/plain": [
       "0.7762278407439698"
      ]
     },
     "execution_count": 53,
     "metadata": {},
     "output_type": "execute_result"
    }
   ],
   "source": [
    "grid2.score(X_test, y_test)"
   ]
  },
  {
   "cell_type": "code",
   "execution_count": 54,
   "metadata": {},
   "outputs": [
    {
     "data": {
      "text/plain": [
       "{'logisticregression__C': 0.001,\n",
       " 'tfidfvectorizer__max_features': 1000,\n",
       " 'tfidfvectorizer__ngram_range': (1, 2),\n",
       " 'tfidfvectorizer__stop_words': 'english'}"
      ]
     },
     "execution_count": 54,
     "metadata": {},
     "output_type": "execute_result"
    }
   ],
   "source": [
    "grid2.best_params_"
   ]
  },
  {
   "cell_type": "markdown",
   "metadata": {},
   "source": [
    "#### Results\n",
    "Similar but slightly lower accuracy score on the test data than without preprocessing depending on the train/test split of the data.  Could be the preprocessing preventing the stopwords from catching some things."
   ]
  },
  {
   "cell_type": "markdown",
   "metadata": {},
   "source": [
    "## Custom Tokenizer\n",
    "Testing model with both a lemmatizer and stemmer.  Also processing stopwords in a similar manner."
   ]
  },
  {
   "cell_type": "code",
   "execution_count": 55,
   "metadata": {},
   "outputs": [],
   "source": [
    "def my_lemmatizer(text):\n",
    "    \"\"\"lemmatizer wrapper for use with vectorizer\"\"\"\n",
    "    wnet = WordNetLemmatizer()\n",
    "    return [wnet.lemmatize(w) for w in word_tokenize(text)]"
   ]
  },
  {
   "cell_type": "code",
   "execution_count": 56,
   "metadata": {},
   "outputs": [],
   "source": [
    "def my_stemmer(text):\n",
    "    \"\"\"PoerterStemmer wrapper for use with vectorizer\"\"\"\n",
    "    stemmer = PorterStemmer()\n",
    "    return [stemmer.stem(w) for w in word_tokenize(text)]"
   ]
  },
  {
   "cell_type": "code",
   "execution_count": 57,
   "metadata": {},
   "outputs": [],
   "source": [
    "# apply same pre-processing to stopwords as posts \n",
    "# inspiration from https://stackoverflow.com/questions/50155188/lemmatization-on-countvectorizer-doesnt-remove-stopwords\n",
    "wnet = WordNetLemmatizer()\n",
    "lem_stopwords = [wnet.lemmatize(w.replace(\"'\",'')) for w in stopwords.words('english')]\n",
    "\n",
    "stemmer = PorterStemmer()\n",
    "stem_stopwords = [stemmer.stem(w.replace(\"'\",'')) for w in stopwords.words('english')]"
   ]
  },
  {
   "cell_type": "code",
   "execution_count": 58,
   "metadata": {},
   "outputs": [],
   "source": [
    "pipe3 = make_pipeline(\n",
    "    TfidfVectorizer(preprocessor=my_preprocessor,\n",
    "                    tokenizer=my_lemmatizer), \n",
    "    StandardScaler(with_mean=False), \n",
    "    LogisticRegression(max_iter=10_000)\n",
    ")\n",
    "\n",
    "params3 = {\n",
    "    'tfidfvectorizer__max_features': [None, 400, 800, 1000],\n",
    "    'tfidfvectorizer__ngram_range': [(1,1), (1,2)],\n",
    "    'tfidfvectorizer__stop_words': [None, lem_stopwords],\n",
    "    'logisticregression__C': [0.001, 0.01, 0.1]\n",
    "}\n",
    "\n",
    "grid3 = GridSearchCV(pipe3, params3, n_jobs=-1)"
   ]
  },
  {
   "cell_type": "code",
   "execution_count": 59,
   "metadata": {},
   "outputs": [
    {
     "data": {
      "text/plain": [
       "GridSearchCV(estimator=Pipeline(steps=[('tfidfvectorizer',\n",
       "                                        TfidfVectorizer(preprocessor=<function my_preprocessor at 0x7fd6b0194430>,\n",
       "                                                        tokenizer=<function my_lemmatizer at 0x7fd6e1556af0>)),\n",
       "                                       ('standardscaler',\n",
       "                                        StandardScaler(with_mean=False)),\n",
       "                                       ('logisticregression',\n",
       "                                        LogisticRegression(max_iter=10000))]),\n",
       "             n_jobs=-1,\n",
       "             param_grid={'logisticregression__C': [0.001, 0.01,...\n",
       "                         'tfidfvectorizer__max_features': [None, 400, 800,\n",
       "                                                           1000],\n",
       "                         'tfidfvectorizer__ngram_range': [(1, 1), (1, 2)],\n",
       "                         'tfidfvectorizer__stop_words': [None,\n",
       "                                                         ['i', 'me', 'my',\n",
       "                                                          'myself', 'we', 'our',\n",
       "                                                          'ours', 'ourselves',\n",
       "                                                          'you', 'youre',\n",
       "                                                          'youve', 'youll',\n",
       "                                                          'youd', 'your',\n",
       "                                                          'yours', 'yourself',\n",
       "                                                          'yourselves', 'he',\n",
       "                                                          'him', 'his',\n",
       "                                                          'himself', 'she',\n",
       "                                                          'shes', 'her', 'hers',\n",
       "                                                          'herself', 'it', 'it',\n",
       "                                                          'it', 'itself', ...]]})"
      ]
     },
     "execution_count": 59,
     "metadata": {},
     "output_type": "execute_result"
    }
   ],
   "source": [
    "grid3.fit(X_train, y_train)"
   ]
  },
  {
   "cell_type": "code",
   "execution_count": 60,
   "metadata": {},
   "outputs": [
    {
     "data": {
      "text/plain": [
       "0.8146677000581283"
      ]
     },
     "execution_count": 60,
     "metadata": {},
     "output_type": "execute_result"
    }
   ],
   "source": [
    "grid3.score(X_train, y_train)"
   ]
  },
  {
   "cell_type": "code",
   "execution_count": 61,
   "metadata": {},
   "outputs": [
    {
     "data": {
      "text/plain": [
       "0.7741935483870968"
      ]
     },
     "execution_count": 61,
     "metadata": {},
     "output_type": "execute_result"
    }
   ],
   "source": [
    "grid3.score(X_test, y_test)"
   ]
  },
  {
   "cell_type": "markdown",
   "metadata": {},
   "source": [
    "Best Params:  \n",
    "    {  \n",
    "        'logisticregression__C': 0.001,  \n",
    "         'tfidfvectorizer__max_features': 800,  \n",
    "         'tfidfvectorizer__ngram_range': (1, 2),  \n",
    "         'tfidfvectorizer__stop_words': lem_stopwords  \n",
    "     }"
   ]
  },
  {
   "cell_type": "markdown",
   "metadata": {},
   "source": [
    "#### Feature Importances - Custom Preprocessing and Lemmetizing"
   ]
  },
  {
   "cell_type": "code",
   "execution_count": 81,
   "metadata": {},
   "outputs": [],
   "source": [
    "imports3 = pd.DataFrame(\n",
    "    {\n",
    "        'feature': grid3.best_estimator_.named_steps['tfidfvectorizer'].get_feature_names(),\n",
    "        'coef': grid3.best_estimator_.named_steps['logisticregression'].coef_[0]\n",
    "    }\n",
    ")"
   ]
  },
  {
   "cell_type": "code",
   "execution_count": 82,
   "metadata": {},
   "outputs": [
    {
     "data": {
      "text/html": [
       "<div>\n",
       "<style scoped>\n",
       "    .dataframe tbody tr th:only-of-type {\n",
       "        vertical-align: middle;\n",
       "    }\n",
       "\n",
       "    .dataframe tbody tr th {\n",
       "        vertical-align: top;\n",
       "    }\n",
       "\n",
       "    .dataframe thead th {\n",
       "        text-align: right;\n",
       "    }\n",
       "</style>\n",
       "<table border=\"1\" class=\"dataframe\">\n",
       "  <thead>\n",
       "    <tr style=\"text-align: right;\">\n",
       "      <th></th>\n",
       "      <th>597</th>\n",
       "      <th>132</th>\n",
       "      <th>145</th>\n",
       "      <th>593</th>\n",
       "      <th>179</th>\n",
       "      <th>550</th>\n",
       "      <th>201</th>\n",
       "      <th>560</th>\n",
       "      <th>735</th>\n",
       "      <th>555</th>\n",
       "    </tr>\n",
       "  </thead>\n",
       "  <tbody>\n",
       "    <tr>\n",
       "      <th>feature</th>\n",
       "      <td>rr</td>\n",
       "      <td>bodyweight</td>\n",
       "      <td>calisthenics</td>\n",
       "      <td>ring</td>\n",
       "      <td>covid</td>\n",
       "      <td>pull</td>\n",
       "      <td>dip</td>\n",
       "      <td>pushup</td>\n",
       "      <td>ups</td>\n",
       "      <td>pullups</td>\n",
       "    </tr>\n",
       "    <tr>\n",
       "      <th>coef</th>\n",
       "      <td>0.212128</td>\n",
       "      <td>0.196464</td>\n",
       "      <td>0.193472</td>\n",
       "      <td>0.178659</td>\n",
       "      <td>0.170943</td>\n",
       "      <td>0.146941</td>\n",
       "      <td>0.144345</td>\n",
       "      <td>0.143197</td>\n",
       "      <td>0.129728</td>\n",
       "      <td>0.129149</td>\n",
       "    </tr>\n",
       "  </tbody>\n",
       "</table>\n",
       "</div>"
      ],
      "text/plain": [
       "              597         132           145       593       179       550  \\\n",
       "feature        rr  bodyweight  calisthenics      ring     covid      pull   \n",
       "coef     0.212128    0.196464      0.193472  0.178659  0.170943  0.146941   \n",
       "\n",
       "              201       560       735       555  \n",
       "feature       dip    pushup       ups   pullups  \n",
       "coef     0.144345  0.143197  0.129728  0.129149  "
      ]
     },
     "execution_count": 82,
     "metadata": {},
     "output_type": "execute_result"
    }
   ],
   "source": [
    "imports3.sort_values(by='coef', ascending=False).head(10).T"
   ]
  },
  {
   "cell_type": "code",
   "execution_count": 83,
   "metadata": {},
   "outputs": [
    {
     "data": {
      "text/html": [
       "<div>\n",
       "<style scoped>\n",
       "    .dataframe tbody tr th:only-of-type {\n",
       "        vertical-align: middle;\n",
       "    }\n",
       "\n",
       "    .dataframe tbody tr th {\n",
       "        vertical-align: top;\n",
       "    }\n",
       "\n",
       "    .dataframe thead th {\n",
       "        text-align: right;\n",
       "    }\n",
       "</style>\n",
       "<table border=\"1\" class=\"dataframe\">\n",
       "  <thead>\n",
       "    <tr style=\"text-align: right;\">\n",
       "      <th></th>\n",
       "      <th>207</th>\n",
       "      <th>192</th>\n",
       "      <th>126</th>\n",
       "      <th>261</th>\n",
       "      <th>436</th>\n",
       "      <th>191</th>\n",
       "      <th>408</th>\n",
       "      <th>409</th>\n",
       "      <th>316</th>\n",
       "      <th>116</th>\n",
       "    </tr>\n",
       "  </thead>\n",
       "  <tbody>\n",
       "    <tr>\n",
       "      <th>feature</th>\n",
       "      <td>dumbbell</td>\n",
       "      <td>deadlifts</td>\n",
       "      <td>bike</td>\n",
       "      <td>fitness</td>\n",
       "      <td>machine</td>\n",
       "      <td>deadlift</td>\n",
       "      <td>lift</td>\n",
       "      <td>lifting</td>\n",
       "      <td>gym</td>\n",
       "      <td>bench</td>\n",
       "    </tr>\n",
       "    <tr>\n",
       "      <th>coef</th>\n",
       "      <td>-0.0692108</td>\n",
       "      <td>-0.0716033</td>\n",
       "      <td>-0.0746096</td>\n",
       "      <td>-0.0899629</td>\n",
       "      <td>-0.0953625</td>\n",
       "      <td>-0.106115</td>\n",
       "      <td>-0.12275</td>\n",
       "      <td>-0.126211</td>\n",
       "      <td>-0.143156</td>\n",
       "      <td>-0.143805</td>\n",
       "    </tr>\n",
       "  </tbody>\n",
       "</table>\n",
       "</div>"
      ],
      "text/plain": [
       "               207        192        126        261        436       191  \\\n",
       "feature   dumbbell  deadlifts       bike    fitness    machine  deadlift   \n",
       "coef    -0.0692108 -0.0716033 -0.0746096 -0.0899629 -0.0953625 -0.106115   \n",
       "\n",
       "             408       409       316       116  \n",
       "feature     lift   lifting       gym     bench  \n",
       "coef    -0.12275 -0.126211 -0.143156 -0.143805  "
      ]
     },
     "execution_count": 83,
     "metadata": {},
     "output_type": "execute_result"
    }
   ],
   "source": [
    "imports3.sort_values(by='coef', ascending=False).tail(10).T"
   ]
  },
  {
   "cell_type": "markdown",
   "metadata": {},
   "source": [
    "#### Results\n",
    "The lemmatizer scores marginally better than stemming.  It also performs similarly to using the default tokenizer but removes some of the unimportant terms such as those relating to URL's which show up high in feature importance likely because of their frequency.  Compared to the MultinomialNB model, these terms with the highest correlation seem more relevant than the terms that had a high log probability in the NB model."
   ]
  },
  {
   "cell_type": "markdown",
   "metadata": {},
   "source": [
    "# Tokenize with Custom Vocabulary\n",
    "Use the features with the highest importance based on coefficients found in the last model as the vocabulary for vectorizing with a new model."
   ]
  },
  {
   "cell_type": "code",
   "execution_count": 108,
   "metadata": {},
   "outputs": [],
   "source": [
    "bw_top_50 = imports3.sort_values(by='coef', ascending=False).head(50)['feature']\n",
    "fit_top_50 = imports3.sort_values(by='coef', ascending=False).tail(50)['feature']"
   ]
  },
  {
   "cell_type": "code",
   "execution_count": 109,
   "metadata": {},
   "outputs": [],
   "source": [
    "my_vocab = pd.concat([bw_top_50, fit_top_50])"
   ]
  },
  {
   "cell_type": "code",
   "execution_count": 110,
   "metadata": {},
   "outputs": [],
   "source": [
    "# Using hyperparameters found in last search\n",
    "pipe4 = make_pipeline(\n",
    "    TfidfVectorizer(preprocessor=my_preprocessor,\n",
    "                    tokenizer=my_lemmatizer,\n",
    "                    vocabulary=my_vocab), \n",
    "    StandardScaler(with_mean=False), \n",
    "    LogisticRegression(max_iter=10_000)\n",
    ")\n",
    "\n",
    "params4 = {\n",
    "    'logisticregression__C': [0.001, 0.01, 0.1,1 ]\n",
    "}\n",
    "\n",
    "grid4 = GridSearchCV(pipe4, params4, n_jobs=-1)"
   ]
  },
  {
   "cell_type": "code",
   "execution_count": 111,
   "metadata": {},
   "outputs": [
    {
     "data": {
      "text/plain": [
       "GridSearchCV(estimator=Pipeline(steps=[('tfidfvectorizer',\n",
       "                                        TfidfVectorizer(preprocessor=<function my_preprocessor at 0x7fd6b0194430>,\n",
       "                                                        tokenizer=<function my_lemmatizer at 0x7fd6e1556af0>,\n",
       "                                                        vocabulary=597              rr\n",
       "132      bodyweight\n",
       "145    calisthenics\n",
       "593            ring\n",
       "179           covid\n",
       "           ...     \n",
       "191        deadlift\n",
       "408            lift\n",
       "409         lifting\n",
       "316             gym\n",
       "116           bench\n",
       "Name: feature, Length: 100, dtype: object)),\n",
       "                                       ('standardscaler',\n",
       "                                        StandardScaler(with_mean=False)),\n",
       "                                       ('logisticregression',\n",
       "                                        LogisticRegression(max_iter=10000))]),\n",
       "             n_jobs=-1,\n",
       "             param_grid={'logisticregression__C': [0.001, 0.01, 0.1, 1]})"
      ]
     },
     "execution_count": 111,
     "metadata": {},
     "output_type": "execute_result"
    }
   ],
   "source": [
    "grid4.fit(X_train, y_train)"
   ]
  },
  {
   "cell_type": "code",
   "execution_count": 112,
   "metadata": {},
   "outputs": [
    {
     "data": {
      "text/plain": [
       "0.7796938577795001"
      ]
     },
     "execution_count": 112,
     "metadata": {},
     "output_type": "execute_result"
    }
   ],
   "source": [
    "grid4.score(X_train, y_train)"
   ]
  },
  {
   "cell_type": "code",
   "execution_count": 113,
   "metadata": {},
   "outputs": [
    {
     "data": {
      "text/plain": [
       "0.7666376053472828"
      ]
     },
     "execution_count": 113,
     "metadata": {},
     "output_type": "execute_result"
    }
   ],
   "source": [
    "grid4.score(X_test, y_test)"
   ]
  },
  {
   "cell_type": "code",
   "execution_count": 114,
   "metadata": {},
   "outputs": [
    {
     "data": {
      "text/plain": [
       "{'logisticregression__C': 0.01}"
      ]
     },
     "execution_count": 114,
     "metadata": {},
     "output_type": "execute_result"
    }
   ],
   "source": [
    "grid4.best_params_"
   ]
  },
  {
   "cell_type": "markdown",
   "metadata": {},
   "source": [
    "#### Results\n",
    "After trying with several different numbers of vocabulary words (10, 50, 100), to few words causes the model to be overfit, but the best accuracy on the test data remains similar to previous models.  Building a custom dictionary and using it with a different model type may be somethign to persue further."
   ]
  },
  {
   "cell_type": "markdown",
   "metadata": {},
   "source": [
    "## Logistic Regression Using Post Title"
   ]
  },
  {
   "cell_type": "code",
   "execution_count": 40,
   "metadata": {},
   "outputs": [],
   "source": [
    "X = all_posts['title']\n",
    "y = all_posts['subreddit']\n",
    "\n",
    "X_train, X_test, y_train, y_test = train_test_split(X, y)"
   ]
  },
  {
   "cell_type": "code",
   "execution_count": 41,
   "metadata": {},
   "outputs": [],
   "source": [
    "pipe5 = make_pipeline(\n",
    "    TfidfVectorizer(preprocessor=my_preprocessor,\n",
    "                    tokenizer=my_lemmatizer,\n",
    "                    stop_words=lem_stopwords,\n",
    "                    max_features=1000,\n",
    "                    ngram_range=(1, 2)), \n",
    "    StandardScaler(with_mean=False), \n",
    "    LogisticRegression(max_iter=10_000, C=.001)\n",
    ")"
   ]
  },
  {
   "cell_type": "code",
   "execution_count": 42,
   "metadata": {},
   "outputs": [
    {
     "data": {
      "text/plain": [
       "Pipeline(steps=[('tfidfvectorizer',\n",
       "                 TfidfVectorizer(max_features=1000, ngram_range=(1, 2),\n",
       "                                 preprocessor=<function my_preprocessor at 0x7febe0d5ff70>,\n",
       "                                 stop_words=['i', 'me', 'my', 'myself', 'we',\n",
       "                                             'our', 'ours', 'ourselves', 'you',\n",
       "                                             'youre', 'youve', 'youll', 'youd',\n",
       "                                             'your', 'yours', 'yourself',\n",
       "                                             'yourselves', 'he', 'him', 'his',\n",
       "                                             'himself', 'she', 'shes', 'her',\n",
       "                                             'hers', 'herself', 'it', 'it',\n",
       "                                             'it', 'itself', ...],\n",
       "                                 tokenizer=<function my_lemmatizer at 0x7fec11485790>)),\n",
       "                ('standardscaler', StandardScaler(with_mean=False)),\n",
       "                ('logisticregression',\n",
       "                 LogisticRegression(C=0.001, max_iter=10000))])"
      ]
     },
     "execution_count": 42,
     "metadata": {},
     "output_type": "execute_result"
    }
   ],
   "source": [
    "pipe5.fit(X_train, y_train)"
   ]
  },
  {
   "cell_type": "code",
   "execution_count": 43,
   "metadata": {},
   "outputs": [
    {
     "data": {
      "text/plain": [
       "0.7831815539624104"
      ]
     },
     "execution_count": 43,
     "metadata": {},
     "output_type": "execute_result"
    }
   ],
   "source": [
    "pipe5.score(X_train, y_train)"
   ]
  },
  {
   "cell_type": "code",
   "execution_count": 44,
   "metadata": {},
   "outputs": [
    {
     "data": {
      "text/plain": [
       "0.7297297297297297"
      ]
     },
     "execution_count": 44,
     "metadata": {},
     "output_type": "execute_result"
    }
   ],
   "source": [
    "pipe5.score(X_test, y_test)"
   ]
  },
  {
   "cell_type": "markdown",
   "metadata": {},
   "source": [
    "#### Results\n",
    "Less accurate than using posts so not persuing further."
   ]
  }
 ],
 "metadata": {
  "kernelspec": {
   "display_name": "Python 3",
   "language": "python",
   "name": "python3"
  },
  "language_info": {
   "codemirror_mode": {
    "name": "ipython",
    "version": 3
   },
   "file_extension": ".py",
   "mimetype": "text/x-python",
   "name": "python",
   "nbconvert_exporter": "python",
   "pygments_lexer": "ipython3",
   "version": "3.8.2"
  }
 },
 "nbformat": 4,
 "nbformat_minor": 4
}
