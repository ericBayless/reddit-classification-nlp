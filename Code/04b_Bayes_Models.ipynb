{
 "cells": [
  {
   "cell_type": "code",
   "execution_count": 1,
   "metadata": {},
   "outputs": [],
   "source": [
    "import pandas as pd\n",
    "import warnings\n",
    "import re\n",
    "\n",
    "from sklearn.feature_extraction.text import CountVectorizer, TfidfVectorizer\n",
    "from sklearn.preprocessing import StandardScaler\n",
    "from sklearn.pipeline import make_pipeline\n",
    "from sklearn.model_selection import train_test_split, GridSearchCV\n",
    "from sklearn.naive_bayes import MultinomialNB\n",
    "\n",
    "from nltk.tokenize import word_tokenize\n",
    "from nltk.stem import WordNetLemmatizer, PorterStemmer\n",
    "from nltk.corpus import stopwords"
   ]
  },
  {
   "cell_type": "code",
   "execution_count": 2,
   "metadata": {},
   "outputs": [],
   "source": [
    "#Ignoring warnings about memory from running gridsearch with n_jobs=-1\n",
    "warnings.filterwarnings('ignore')"
   ]
  },
  {
   "cell_type": "code",
   "execution_count": 3,
   "metadata": {},
   "outputs": [],
   "source": [
    "fitness_df = pd.read_csv('../Data/fitness_clean.csv', index_col=0)\n",
    "bodyweight_df = pd.read_csv('../Data/bodyweight_clean.csv', index_col=0)\n",
    "\n",
    "all_posts = pd.concat([fitness_df, bodyweight_df], ignore_index=True)"
   ]
  },
  {
   "cell_type": "code",
   "execution_count": 4,
   "metadata": {},
   "outputs": [
    {
     "data": {
      "text/plain": [
       "bodyweightfitness    0.512388\n",
       "Fitness              0.487612\n",
       "Name: subreddit, dtype: float64"
      ]
     },
     "execution_count": 4,
     "metadata": {},
     "output_type": "execute_result"
    }
   ],
   "source": [
    "# Baseline\n",
    "all_posts['subreddit'].value_counts(normalize=True)"
   ]
  },
  {
   "cell_type": "code",
   "execution_count": 5,
   "metadata": {},
   "outputs": [],
   "source": [
    "X = all_posts['selftext']\n",
    "y = all_posts['subreddit']\n",
    "\n",
    "X_train, X_test, y_train, y_test = train_test_split(X, y)"
   ]
  },
  {
   "cell_type": "markdown",
   "metadata": {},
   "source": [
    "## Grid Search Basic MultinomialNB"
   ]
  },
  {
   "cell_type": "code",
   "execution_count": 6,
   "metadata": {},
   "outputs": [],
   "source": [
    "pipe = make_pipeline(TfidfVectorizer(), StandardScaler(with_mean=False), MultinomialNB())\n",
    "params = {\n",
    "    'tfidfvectorizer__max_features': [None, 400, 800, 1000],\n",
    "    'tfidfvectorizer__ngram_range': [(1,1), (1,2)],\n",
    "    'tfidfvectorizer__stop_words': [None, 'english'],\n",
    "    'multinomialnb__alpha': [0.001, 0.01, 1]\n",
    "}\n",
    "grid = GridSearchCV(pipe, params, n_jobs=-1)"
   ]
  },
  {
   "cell_type": "code",
   "execution_count": 7,
   "metadata": {},
   "outputs": [
    {
     "data": {
      "text/plain": [
       "GridSearchCV(estimator=Pipeline(steps=[('tfidfvectorizer', TfidfVectorizer()),\n",
       "                                       ('standardscaler',\n",
       "                                        StandardScaler(with_mean=False)),\n",
       "                                       ('multinomialnb', MultinomialNB())]),\n",
       "             n_jobs=-1,\n",
       "             param_grid={'multinomialnb__alpha': [0.001, 0.01, 1],\n",
       "                         'tfidfvectorizer__max_features': [None, 400, 800,\n",
       "                                                           1000],\n",
       "                         'tfidfvectorizer__ngram_range': [(1, 1), (1, 2)],\n",
       "                         'tfidfvectorizer__stop_words': [None, 'english']})"
      ]
     },
     "execution_count": 7,
     "metadata": {},
     "output_type": "execute_result"
    }
   ],
   "source": [
    "grid.fit(X_train, y_train)"
   ]
  },
  {
   "cell_type": "code",
   "execution_count": 8,
   "metadata": {},
   "outputs": [
    {
     "data": {
      "text/plain": [
       "0.7872505328424724"
      ]
     },
     "execution_count": 8,
     "metadata": {},
     "output_type": "execute_result"
    }
   ],
   "source": [
    "grid.score(X_train, y_train)"
   ]
  },
  {
   "cell_type": "code",
   "execution_count": 9,
   "metadata": {},
   "outputs": [
    {
     "data": {
      "text/plain": [
       "0.7858180761406568"
      ]
     },
     "execution_count": 9,
     "metadata": {},
     "output_type": "execute_result"
    }
   ],
   "source": [
    "grid.score(X_test, y_test)"
   ]
  },
  {
   "cell_type": "code",
   "execution_count": 10,
   "metadata": {},
   "outputs": [
    {
     "data": {
      "text/plain": [
       "{'multinomialnb__alpha': 0.001,\n",
       " 'tfidfvectorizer__max_features': 1000,\n",
       " 'tfidfvectorizer__ngram_range': (1, 2),\n",
       " 'tfidfvectorizer__stop_words': 'english'}"
      ]
     },
     "execution_count": 10,
     "metadata": {},
     "output_type": "execute_result"
    }
   ],
   "source": [
    "grid.best_params_"
   ]
  },
  {
   "cell_type": "code",
   "execution_count": 11,
   "metadata": {},
   "outputs": [],
   "source": [
    "imports = pd.DataFrame(\n",
    "    {\n",
    "        'feature': grid.best_estimator_.named_steps['tfidfvectorizer'].get_feature_names(),\n",
    "        'coef': grid.best_estimator_.named_steps['multinomialnb'].coef_[0]\n",
    "    }\n",
    ")"
   ]
  },
  {
   "cell_type": "code",
   "execution_count": 12,
   "metadata": {},
   "outputs": [
    {
     "data": {
      "text/html": [
       "<div>\n",
       "<style scoped>\n",
       "    .dataframe tbody tr th:only-of-type {\n",
       "        vertical-align: middle;\n",
       "    }\n",
       "\n",
       "    .dataframe tbody tr th {\n",
       "        vertical-align: top;\n",
       "    }\n",
       "\n",
       "    .dataframe thead th {\n",
       "        text-align: right;\n",
       "    }\n",
       "</style>\n",
       "<table border=\"1\" class=\"dataframe\">\n",
       "  <thead>\n",
       "    <tr style=\"text-align: right;\">\n",
       "      <th></th>\n",
       "      <th>226</th>\n",
       "      <th>917</th>\n",
       "      <th>675</th>\n",
       "      <th>496</th>\n",
       "      <th>455</th>\n",
       "      <th>924</th>\n",
       "      <th>678</th>\n",
       "      <th>683</th>\n",
       "      <th>267</th>\n",
       "      <th>117</th>\n",
       "    </tr>\n",
       "  </thead>\n",
       "  <tbody>\n",
       "    <tr>\n",
       "      <th>feature</th>\n",
       "      <td>doing</td>\n",
       "      <td>ups</td>\n",
       "      <td>pull</td>\n",
       "      <td>like</td>\n",
       "      <td>just</td>\n",
       "      <td>ve</td>\n",
       "      <td>pull ups</td>\n",
       "      <td>push</td>\n",
       "      <td>exercises</td>\n",
       "      <td>body</td>\n",
       "    </tr>\n",
       "    <tr>\n",
       "      <th>coef</th>\n",
       "      <td>-5.3992</td>\n",
       "      <td>-5.41054</td>\n",
       "      <td>-5.44875</td>\n",
       "      <td>-5.53987</td>\n",
       "      <td>-5.54891</td>\n",
       "      <td>-5.63207</td>\n",
       "      <td>-5.64707</td>\n",
       "      <td>-5.69612</td>\n",
       "      <td>-5.71262</td>\n",
       "      <td>-5.72749</td>\n",
       "    </tr>\n",
       "  </tbody>\n",
       "</table>\n",
       "</div>"
      ],
      "text/plain": [
       "            226      917      675      496      455      924       678  \\\n",
       "feature   doing      ups     pull     like     just       ve  pull ups   \n",
       "coef    -5.3992 -5.41054 -5.44875 -5.53987 -5.54891 -5.63207  -5.64707   \n",
       "\n",
       "             683        267      117  \n",
       "feature     push  exercises     body  \n",
       "coef    -5.69612   -5.71262 -5.72749  "
      ]
     },
     "execution_count": 12,
     "metadata": {},
     "output_type": "execute_result"
    }
   ],
   "source": [
    "imports.sort_values(by='coef', ascending=False).head(10).T"
   ]
  },
  {
   "cell_type": "code",
   "execution_count": 13,
   "metadata": {},
   "outputs": [
    {
     "data": {
      "text/html": [
       "<div>\n",
       "<style scoped>\n",
       "    .dataframe tbody tr th:only-of-type {\n",
       "        vertical-align: middle;\n",
       "    }\n",
       "\n",
       "    .dataframe tbody tr th {\n",
       "        vertical-align: top;\n",
       "    }\n",
       "\n",
       "    .dataframe thead th {\n",
       "        text-align: right;\n",
       "    }\n",
       "</style>\n",
       "<table border=\"1\" class=\"dataframe\">\n",
       "  <thead>\n",
       "    <tr style=\"text-align: right;\">\n",
       "      <th></th>\n",
       "      <th>137</th>\n",
       "      <th>535</th>\n",
       "      <th>530</th>\n",
       "      <th>168</th>\n",
       "      <th>425</th>\n",
       "      <th>426</th>\n",
       "      <th>989</th>\n",
       "      <th>415</th>\n",
       "      <th>414</th>\n",
       "      <th>416</th>\n",
       "    </tr>\n",
       "  </thead>\n",
       "  <tbody>\n",
       "    <tr>\n",
       "      <th>feature</th>\n",
       "      <td>cable</td>\n",
       "      <td>maintenance</td>\n",
       "      <td>machines</td>\n",
       "      <td>com</td>\n",
       "      <td>imgur</td>\n",
       "      <td>imgur com</td>\n",
       "      <td>www</td>\n",
       "      <td>https imgur</td>\n",
       "      <td>https</td>\n",
       "      <td>https www</td>\n",
       "    </tr>\n",
       "    <tr>\n",
       "      <th>coef</th>\n",
       "      <td>-8.54979</td>\n",
       "      <td>-8.73315</td>\n",
       "      <td>-8.82389</td>\n",
       "      <td>-8.99249</td>\n",
       "      <td>-9.43113</td>\n",
       "      <td>-10.4292</td>\n",
       "      <td>-20.4099</td>\n",
       "      <td>-20.4099</td>\n",
       "      <td>-20.4099</td>\n",
       "      <td>-20.4099</td>\n",
       "    </tr>\n",
       "  </tbody>\n",
       "</table>\n",
       "</div>"
      ],
      "text/plain": [
       "             137          535       530      168      425        426      989  \\\n",
       "feature    cable  maintenance  machines      com    imgur  imgur com      www   \n",
       "coef    -8.54979     -8.73315  -8.82389 -8.99249 -9.43113   -10.4292 -20.4099   \n",
       "\n",
       "                 415      414        416  \n",
       "feature  https imgur    https  https www  \n",
       "coef        -20.4099 -20.4099   -20.4099  "
      ]
     },
     "execution_count": 13,
     "metadata": {},
     "output_type": "execute_result"
    }
   ],
   "source": [
    "imports.sort_values(by='coef', ascending=False).tail(10).T"
   ]
  },
  {
   "cell_type": "markdown",
   "metadata": {},
   "source": [
    "#### Results\n",
    "Basic MultinomialNB scores similarly to many of the other models tested on accuracy.  Looking at the feature importances based off of the coefficients, we see many terms related to fitness and bodyweight fitness.  However, without preprocessing there are also many general terms with high influence likely due to their prevelence in the posts."
   ]
  },
  {
   "cell_type": "markdown",
   "metadata": {},
   "source": [
    "## Custom Preprocessing"
   ]
  },
  {
   "cell_type": "code",
   "execution_count": 18,
   "metadata": {},
   "outputs": [],
   "source": [
    "def my_preprocessor(text):\n",
    "    \"\"\"Process text for use with vectorizer.\n",
    "    \n",
    "    Takes in a string and modifies it for use with count or tf-idf\n",
    "    vectorizer.  It will set all characters to lowercase, remove and urls,\n",
    "    remove the apostrophe from contractions, and replace non-alphanumeric\n",
    "    characters with a space.\n",
    "    \n",
    "    Args:\n",
    "        text (string): string to be processed\n",
    "    \n",
    "    Returns:\n",
    "        string: processed text string\n",
    "    \"\"\"\n",
    "    text = text.lower()\n",
    "    text = re.sub('http\\S+|www.\\S+', '', text)\n",
    "    text = text.replace(\"'\", '')\n",
    "    text = ''.join(w if w.isalnum() or w == ' ' else ' ' for w in text)\n",
    "    \n",
    "    return text"
   ]
  },
  {
   "cell_type": "code",
   "execution_count": 17,
   "metadata": {},
   "outputs": [],
   "source": [
    "pipe2 = make_pipeline(TfidfVectorizer(preprocessor=my_preprocessor), \n",
    "                      StandardScaler(with_mean=False), MultinomialNB())\n",
    "grid2 = GridSearchCV(pipe2, params, n_jobs=-1)"
   ]
  },
  {
   "cell_type": "code",
   "execution_count": 18,
   "metadata": {},
   "outputs": [
    {
     "data": {
      "text/plain": [
       "GridSearchCV(estimator=Pipeline(steps=[('tfidfvectorizer',\n",
       "                                        TfidfVectorizer(preprocessor=<function my_preprocessor at 0x7fe4111cbee0>)),\n",
       "                                       ('standardscaler',\n",
       "                                        StandardScaler(with_mean=False)),\n",
       "                                       ('multinomialnb', MultinomialNB())]),\n",
       "             n_jobs=-1,\n",
       "             param_grid={'multinomialnb__alpha': [0.001, 0.01, 1],\n",
       "                         'tfidfvectorizer__max_features': [None, 400, 800,\n",
       "                                                           1000],\n",
       "                         'tfidfvectorizer__ngram_range': [(1, 1), (1, 2)],\n",
       "                         'tfidfvectorizer__stop_words': [None, 'english']})"
      ]
     },
     "execution_count": 18,
     "metadata": {},
     "output_type": "execute_result"
    }
   ],
   "source": [
    "grid2.fit(X_train, y_train)"
   ]
  },
  {
   "cell_type": "code",
   "execution_count": 19,
   "metadata": {},
   "outputs": [
    {
     "data": {
      "text/plain": [
       "0.7834721953109862"
      ]
     },
     "execution_count": 19,
     "metadata": {},
     "output_type": "execute_result"
    }
   ],
   "source": [
    "grid2.score(X_train, y_train)"
   ]
  },
  {
   "cell_type": "code",
   "execution_count": 20,
   "metadata": {},
   "outputs": [
    {
     "data": {
      "text/plain": [
       "0.7646033129904097"
      ]
     },
     "execution_count": 20,
     "metadata": {},
     "output_type": "execute_result"
    }
   ],
   "source": [
    "grid2.score(X_test, y_test)"
   ]
  },
  {
   "cell_type": "code",
   "execution_count": 21,
   "metadata": {},
   "outputs": [
    {
     "data": {
      "text/plain": [
       "{'multinomialnb__alpha': 0.001,\n",
       " 'tfidfvectorizer__max_features': 1000,\n",
       " 'tfidfvectorizer__ngram_range': (1, 2),\n",
       " 'tfidfvectorizer__stop_words': 'english'}"
      ]
     },
     "execution_count": 21,
     "metadata": {},
     "output_type": "execute_result"
    }
   ],
   "source": [
    "grid2.best_params_"
   ]
  },
  {
   "cell_type": "markdown",
   "metadata": {},
   "source": [
    "## Custom Tokenizer\n",
    "Testing model with both a lemmatizer and stemmer"
   ]
  },
  {
   "cell_type": "code",
   "execution_count": 19,
   "metadata": {},
   "outputs": [],
   "source": [
    "def my_lemmatizer(text):\n",
    "    \"\"\"lemmatizer wrapper for use with vectorizer\"\"\"\n",
    "    wnet = WordNetLemmatizer()\n",
    "    return [wnet.lemmatize(w) for w in word_tokenize(text)]"
   ]
  },
  {
   "cell_type": "code",
   "execution_count": 20,
   "metadata": {},
   "outputs": [],
   "source": [
    "def my_stemmer(text):\n",
    "    \"\"\"PoerterStemmer wrapper for use with vectorizer\"\"\"\n",
    "    stemmer = PorterStemmer()\n",
    "    return [stemmer.stem(w) for w in word_tokenize(text)]"
   ]
  },
  {
   "cell_type": "code",
   "execution_count": 21,
   "metadata": {},
   "outputs": [],
   "source": [
    "# apply same pre-processing as posts\n",
    "# inspiration from https://stackoverflow.com/questions/50155188/lemmatization-on-countvectorizer-doesnt-remove-stopwords\n",
    "wnet = WordNetLemmatizer()\n",
    "lem_stopwords = [wnet.lemmatize(w.replace(\"'\",'')) for w in stopwords.words('english')]\n",
    "\n",
    "stemmer = PorterStemmer()\n",
    "stem_stopwords = [stemmer.stem(w.replace(\"'\",'')) for w in stopwords.words('english')]"
   ]
  },
  {
   "cell_type": "code",
   "execution_count": 22,
   "metadata": {},
   "outputs": [],
   "source": [
    "pipe3 = make_pipeline(\n",
    "    TfidfVectorizer(preprocessor=my_preprocessor,\n",
    "                    tokenizer=my_lemmatizer), \n",
    "    StandardScaler(with_mean=False), \n",
    "    MultinomialNB()\n",
    ")\n",
    "\n",
    "params3 = {\n",
    "    'tfidfvectorizer__max_features': [None, 400, 800, 1000],\n",
    "    'tfidfvectorizer__ngram_range': [(1,1), (1,2)],\n",
    "    'tfidfvectorizer__stop_words': [None, lem_stopwords],\n",
    "    'multinomialnb__alpha': [0.001, 0.01, 1]\n",
    "}\n",
    "\n",
    "grid3 = GridSearchCV(pipe3, params3, n_jobs=-1)"
   ]
  },
  {
   "cell_type": "code",
   "execution_count": 23,
   "metadata": {},
   "outputs": [
    {
     "data": {
      "text/plain": [
       "GridSearchCV(estimator=Pipeline(steps=[('tfidfvectorizer',\n",
       "                                        TfidfVectorizer(preprocessor=<function my_preprocessor at 0x7fe9191fbc10>,\n",
       "                                                        tokenizer=<function my_lemmatizer at 0x7fe90820fe50>)),\n",
       "                                       ('standardscaler',\n",
       "                                        StandardScaler(with_mean=False)),\n",
       "                                       ('multinomialnb', MultinomialNB())]),\n",
       "             n_jobs=-1,\n",
       "             param_grid={'multinomialnb__alpha': [0.001, 0.01, 1],\n",
       "                         'tfidfvectorizer__max_features': [None, 400, 800,\n",
       "                                                           1000],\n",
       "                         'tfidfvectorizer__ngram_range': [(1, 1), (1, 2)],\n",
       "                         'tfidfvectorizer__stop_words': [None,\n",
       "                                                         ['i', 'me', 'my',\n",
       "                                                          'myself', 'we', 'our',\n",
       "                                                          'ours', 'ourselves',\n",
       "                                                          'you', 'youre',\n",
       "                                                          'youve', 'youll',\n",
       "                                                          'youd', 'your',\n",
       "                                                          'yours', 'yourself',\n",
       "                                                          'yourselves', 'he',\n",
       "                                                          'him', 'his',\n",
       "                                                          'himself', 'she',\n",
       "                                                          'shes', 'her', 'hers',\n",
       "                                                          'herself', 'it', 'it',\n",
       "                                                          'it', 'itself', ...]]})"
      ]
     },
     "execution_count": 23,
     "metadata": {},
     "output_type": "execute_result"
    }
   ],
   "source": [
    "grid3.fit(X_train, y_train)"
   ]
  },
  {
   "cell_type": "code",
   "execution_count": 24,
   "metadata": {},
   "outputs": [
    {
     "data": {
      "text/plain": [
       "0.7757217593489634"
      ]
     },
     "execution_count": 24,
     "metadata": {},
     "output_type": "execute_result"
    }
   ],
   "source": [
    "grid3.score(X_train, y_train)"
   ]
  },
  {
   "cell_type": "code",
   "execution_count": 25,
   "metadata": {},
   "outputs": [
    {
     "data": {
      "text/plain": [
       "0.7695437372856728"
      ]
     },
     "execution_count": 25,
     "metadata": {},
     "output_type": "execute_result"
    }
   ],
   "source": [
    "grid3.score(X_test, y_test)"
   ]
  },
  {
   "cell_type": "markdown",
   "metadata": {},
   "source": [
    "Best Params:  \n",
    "{'multinomialnb__alpha': 0.001,  \n",
    " 'tfidfvectorizer__max_features': 1000,  \n",
    " 'tfidfvectorizer__ngram_range': (1, 2),  \n",
    " 'tfidfvectorizer__stop_words': lem_stopwords}"
   ]
  },
  {
   "cell_type": "code",
   "execution_count": 27,
   "metadata": {},
   "outputs": [],
   "source": [
    "imports3 = pd.DataFrame(\n",
    "    {\n",
    "        'feature': grid3.best_estimator_.named_steps['tfidfvectorizer'].get_feature_names(),\n",
    "        'coef': grid3.best_estimator_.named_steps['multinomialnb'].coef_[0]\n",
    "    }\n",
    ")"
   ]
  },
  {
   "cell_type": "code",
   "execution_count": 28,
   "metadata": {},
   "outputs": [
    {
     "data": {
      "text/html": [
       "<div>\n",
       "<style scoped>\n",
       "    .dataframe tbody tr th:only-of-type {\n",
       "        vertical-align: middle;\n",
       "    }\n",
       "\n",
       "    .dataframe tbody tr th {\n",
       "        vertical-align: top;\n",
       "    }\n",
       "\n",
       "    .dataframe thead th {\n",
       "        text-align: right;\n",
       "    }\n",
       "</style>\n",
       "<table border=\"1\" class=\"dataframe\">\n",
       "  <thead>\n",
       "    <tr style=\"text-align: right;\">\n",
       "      <th></th>\n",
       "      <th>925</th>\n",
       "      <th>694</th>\n",
       "      <th>448</th>\n",
       "      <th>520</th>\n",
       "      <th>300</th>\n",
       "      <th>365</th>\n",
       "      <th>697</th>\n",
       "      <th>985</th>\n",
       "      <th>979</th>\n",
       "      <th>628</th>\n",
       "    </tr>\n",
       "  </thead>\n",
       "  <tbody>\n",
       "    <tr>\n",
       "      <th>feature</th>\n",
       "      <td>ups</td>\n",
       "      <td>pull</td>\n",
       "      <td>im</td>\n",
       "      <td>like</td>\n",
       "      <td>exercise</td>\n",
       "      <td>get</td>\n",
       "      <td>pull ups</td>\n",
       "      <td>would</td>\n",
       "      <td>workout</td>\n",
       "      <td>one</td>\n",
       "    </tr>\n",
       "    <tr>\n",
       "      <th>coef</th>\n",
       "      <td>-5.49964</td>\n",
       "      <td>-5.53252</td>\n",
       "      <td>-5.60964</td>\n",
       "      <td>-5.6235</td>\n",
       "      <td>-5.65611</td>\n",
       "      <td>-5.7207</td>\n",
       "      <td>-5.73522</td>\n",
       "      <td>-5.75209</td>\n",
       "      <td>-5.76159</td>\n",
       "      <td>-5.769</td>\n",
       "    </tr>\n",
       "  </tbody>\n",
       "</table>\n",
       "</div>"
      ],
      "text/plain": [
       "             925      694      448     520       300     365       697  \\\n",
       "feature      ups     pull       im    like  exercise     get  pull ups   \n",
       "coef    -5.49964 -5.53252 -5.60964 -5.6235  -5.65611 -5.7207  -5.73522   \n",
       "\n",
       "             985      979    628  \n",
       "feature    would  workout    one  \n",
       "coef    -5.75209 -5.76159 -5.769  "
      ]
     },
     "execution_count": 28,
     "metadata": {},
     "output_type": "execute_result"
    }
   ],
   "source": [
    "imports3.sort_values(by='coef', ascending=False).head(10).T"
   ]
  },
  {
   "cell_type": "code",
   "execution_count": 29,
   "metadata": {},
   "outputs": [
    {
     "data": {
      "text/html": [
       "<div>\n",
       "<style scoped>\n",
       "    .dataframe tbody tr th:only-of-type {\n",
       "        vertical-align: middle;\n",
       "    }\n",
       "\n",
       "    .dataframe tbody tr th {\n",
       "        vertical-align: top;\n",
       "    }\n",
       "\n",
       "    .dataframe thead th {\n",
       "        text-align: right;\n",
       "    }\n",
       "</style>\n",
       "<table border=\"1\" class=\"dataframe\">\n",
       "  <thead>\n",
       "    <tr style=\"text-align: right;\">\n",
       "      <th></th>\n",
       "      <th>119</th>\n",
       "      <th>156</th>\n",
       "      <th>550</th>\n",
       "      <th>50</th>\n",
       "      <th>150</th>\n",
       "      <th>747</th>\n",
       "      <th>240</th>\n",
       "      <th>623</th>\n",
       "      <th>179</th>\n",
       "      <th>556</th>\n",
       "    </tr>\n",
       "  </thead>\n",
       "  <tbody>\n",
       "    <tr>\n",
       "      <th>feature</th>\n",
       "      <td>ate</td>\n",
       "      <td>bike</td>\n",
       "      <td>machine</td>\n",
       "      <td>4 x</td>\n",
       "      <td>bf</td>\n",
       "      <td>rice</td>\n",
       "      <td>db</td>\n",
       "      <td>ohp</td>\n",
       "      <td>cable</td>\n",
       "      <td>maintenance</td>\n",
       "    </tr>\n",
       "    <tr>\n",
       "      <th>coef</th>\n",
       "      <td>-8.1613</td>\n",
       "      <td>-8.26243</td>\n",
       "      <td>-8.26503</td>\n",
       "      <td>-8.26856</td>\n",
       "      <td>-8.33862</td>\n",
       "      <td>-8.35739</td>\n",
       "      <td>-8.46929</td>\n",
       "      <td>-8.59105</td>\n",
       "      <td>-8.74949</td>\n",
       "      <td>-8.81721</td>\n",
       "    </tr>\n",
       "  </tbody>\n",
       "</table>\n",
       "</div>"
      ],
      "text/plain": [
       "            119      156      550      50       150      747      240  \\\n",
       "feature     ate     bike  machine      4 x       bf     rice       db   \n",
       "coef    -8.1613 -8.26243 -8.26503 -8.26856 -8.33862 -8.35739 -8.46929   \n",
       "\n",
       "             623      179          556  \n",
       "feature      ohp    cable  maintenance  \n",
       "coef    -8.59105 -8.74949     -8.81721  "
      ]
     },
     "execution_count": 29,
     "metadata": {},
     "output_type": "execute_result"
    }
   ],
   "source": [
    "imports3.sort_values(by='coef', ascending=False).tail(10).T"
   ]
  },
  {
   "cell_type": "markdown",
   "metadata": {},
   "source": [
    "### Results\n",
    "Adding in custom preprocessing and lemmetization seems to slightly decrease the models accuracy, but remove many of the general terms from the most important features based on the log probabilities of each feature.  Some of the features identified this way are terms that one would expect to be more associated with fitness or bodyweight fitness, but many still seem fairly generalized."
   ]
  },
  {
   "cell_type": "code",
   "execution_count": null,
   "metadata": {},
   "outputs": [],
   "source": []
  }
 ],
 "metadata": {
  "kernelspec": {
   "display_name": "Python 3",
   "language": "python",
   "name": "python3"
  },
  "language_info": {
   "codemirror_mode": {
    "name": "ipython",
    "version": 3
   },
   "file_extension": ".py",
   "mimetype": "text/x-python",
   "name": "python",
   "nbconvert_exporter": "python",
   "pygments_lexer": "ipython3",
   "version": "3.8.2"
  }
 },
 "nbformat": 4,
 "nbformat_minor": 4
}
