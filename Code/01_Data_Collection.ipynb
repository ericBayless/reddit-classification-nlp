{
 "cells": [
  {
   "cell_type": "code",
   "execution_count": 1,
   "metadata": {},
   "outputs": [],
   "source": [
    "import requests\n",
    "import calendar\n",
    "import time\n",
    "import pandas as pd"
   ]
  },
  {
   "cell_type": "code",
   "execution_count": 2,
   "metadata": {},
   "outputs": [],
   "source": [
    "def get_posts(num_posts, req_params, before):\n",
    "    \"\"\"Get specified number of subreddit posts using Pushshift API\n",
    "    \n",
    "    This function will request the number of posts at a time specified\n",
    "    in the arguments (max 100), up to the total number of posts also \n",
    "    specified, with a configurable timeout between requests.  It will\n",
    "    start at the provided epoch time and work backwards.  Also, it will\n",
    "    end and return the posts before the specified number of posts is\n",
    "    reached if the request fails more than 10 times in a row, or 0 \n",
    "    posts is returned in a request.\n",
    "    \n",
    "    Args:\n",
    "        num_posts (int): Total number of posts desired\n",
    "        req_params (dict): Dictionary of request parameters\n",
    "            key (string): url, value (string): Base API url\n",
    "            key (string): subreddit, value (string): subreddit name\n",
    "            key (string): size, value (int): number of posts per request\n",
    "            key (string): fields, value (list): list of subreddit fields\n",
    "            key (string): secs, value (int): seconds between requests\n",
    "        before (int): epoch time to start requests from\n",
    "        \n",
    "    Return:\n",
    "        Dataframe of results\n",
    "    \"\"\"\n",
    "    # instantiate list for storing all posts\n",
    "    all_posts = []\n",
    "    \n",
    "    # make requests until required number of posts is reached\n",
    "    while(len(all_posts) < num_posts):\n",
    "        params = {\n",
    "            'subreddit': req_params['subreddit'],\n",
    "            'size': req_params['size'],\n",
    "            'fields': req_params['fields'],\n",
    "            'before': before\n",
    "        }\n",
    "        res = requests.get(req_params['url'], params)\n",
    "        \n",
    "        # counter for failed requests\n",
    "        # resets with a successful request\n",
    "        # breaks loop if unsuccessful requests is greater than 10\n",
    "        num_failed = 0\n",
    "        if res.status_code == 200:\n",
    "            num_failed = 0\n",
    "            posts = res.json()['data']\n",
    "            if len(posts) > 0:\n",
    "                all_posts.append(posts)\n",
    "                before = posts[-1]['created_utc']\n",
    "            else:\n",
    "                print('No more posts')\n",
    "                break\n",
    "        elif num_failed > 10:\n",
    "            print('requests unsuccessful')\n",
    "            break\n",
    "        else:\n",
    "            num_failed += 1\n",
    "            \n",
    "        # wait time between requests\n",
    "        time.sleep(req_params['secs'])\n",
    "        \n",
    "    print('Complete')    \n",
    "    return pd.DataFrame(all_posts)"
   ]
  },
  {
   "cell_type": "markdown",
   "metadata": {},
   "source": [
    "## Fitness"
   ]
  },
  {
   "cell_type": "code",
   "execution_count": 35,
   "metadata": {},
   "outputs": [],
   "source": [
    "#instantiate dataframe before first run only\n",
    "#fitness_df = pd.DataFrame()"
   ]
  },
  {
   "cell_type": "code",
   "execution_count": 20,
   "metadata": {},
   "outputs": [
    {
     "data": {
      "text/html": [
       "<div>\n",
       "<style scoped>\n",
       "    .dataframe tbody tr th:only-of-type {\n",
       "        vertical-align: middle;\n",
       "    }\n",
       "\n",
       "    .dataframe tbody tr th {\n",
       "        vertical-align: top;\n",
       "    }\n",
       "\n",
       "    .dataframe thead th {\n",
       "        text-align: right;\n",
       "    }\n",
       "</style>\n",
       "<table border=\"1\" class=\"dataframe\">\n",
       "  <thead>\n",
       "    <tr style=\"text-align: right;\">\n",
       "      <th></th>\n",
       "      <th>author</th>\n",
       "      <th>created_utc</th>\n",
       "      <th>num_comments</th>\n",
       "      <th>num_crossposts</th>\n",
       "      <th>score</th>\n",
       "      <th>selftext</th>\n",
       "      <th>subreddit</th>\n",
       "      <th>title</th>\n",
       "    </tr>\n",
       "  </thead>\n",
       "  <tbody>\n",
       "    <tr>\n",
       "      <th>0</th>\n",
       "      <td>bigjungus11</td>\n",
       "      <td>1610566951</td>\n",
       "      <td>1</td>\n",
       "      <td>0</td>\n",
       "      <td>1</td>\n",
       "      <td>[removed]</td>\n",
       "      <td>Fitness</td>\n",
       "      <td>Skinnyfat, should I eat more? Less?</td>\n",
       "    </tr>\n",
       "    <tr>\n",
       "      <th>1</th>\n",
       "      <td>Oz390</td>\n",
       "      <td>1610566886</td>\n",
       "      <td>0</td>\n",
       "      <td>0</td>\n",
       "      <td>1</td>\n",
       "      <td>[removed]</td>\n",
       "      <td>Fitness</td>\n",
       "      <td>Starting a new fitness programme</td>\n",
       "    </tr>\n",
       "  </tbody>\n",
       "</table>\n",
       "</div>"
      ],
      "text/plain": [
       "        author  created_utc  num_comments  num_crossposts  score   selftext  \\\n",
       "0  bigjungus11   1610566951             1               0      1  [removed]   \n",
       "1        Oz390   1610566886             0               0      1  [removed]   \n",
       "\n",
       "  subreddit                                title  \n",
       "0   Fitness  Skinnyfat, should I eat more? Less?  \n",
       "1   Fitness     Starting a new fitness programme  "
      ]
     },
     "execution_count": 20,
     "metadata": {},
     "output_type": "execute_result"
    }
   ],
   "source": [
    "#read in existing data to start where left off\n",
    "fitness_df = pd.read_csv('../Data/fitness.csv', index_col=0)\n",
    "fitness_df.head(2)"
   ]
  },
  {
   "cell_type": "code",
   "execution_count": 5,
   "metadata": {},
   "outputs": [],
   "source": [
    "#parameters for request\n",
    "req_params = {\n",
    "    'url': 'https://api.pushshift.io/reddit/search/submission',\n",
    "    'subreddit': 'Fitness',\n",
    "    'size': 100,\n",
    "    'fields': ['subreddit','author','title','selftext','num_comments','num_crossposts','score','created_utc'],\n",
    "    'secs': 10\n",
    "}"
   ]
  },
  {
   "cell_type": "code",
   "execution_count": 36,
   "metadata": {},
   "outputs": [],
   "source": [
    "#current time for first run\n",
    "now = calendar.timegm(time.gmtime())"
   ]
  },
  {
   "cell_type": "code",
   "execution_count": 39,
   "metadata": {},
   "outputs": [],
   "source": [
    "#time for starting from where left off\n",
    "before = fitness_df.iloc[-1]['created_utc']"
   ]
  },
  {
   "cell_type": "code",
   "execution_count": 40,
   "metadata": {},
   "outputs": [
    {
     "name": "stdout",
     "output_type": "stream",
     "text": [
      "Complete\n"
     ]
    }
   ],
   "source": [
    "fitness_df = pd.concat([fitness_df, get_posts(4000, req_params, before)])"
   ]
  },
  {
   "cell_type": "code",
   "execution_count": 41,
   "metadata": {},
   "outputs": [
    {
     "data": {
      "text/plain": [
       "26000"
      ]
     },
     "execution_count": 41,
     "metadata": {},
     "output_type": "execute_result"
    }
   ],
   "source": [
    "len(fitness_df)"
   ]
  },
  {
   "cell_type": "code",
   "execution_count": 44,
   "metadata": {},
   "outputs": [
    {
     "data": {
      "text/html": [
       "<div>\n",
       "<style scoped>\n",
       "    .dataframe tbody tr th:only-of-type {\n",
       "        vertical-align: middle;\n",
       "    }\n",
       "\n",
       "    .dataframe tbody tr th {\n",
       "        vertical-align: top;\n",
       "    }\n",
       "\n",
       "    .dataframe thead th {\n",
       "        text-align: right;\n",
       "    }\n",
       "</style>\n",
       "<table border=\"1\" class=\"dataframe\">\n",
       "  <thead>\n",
       "    <tr style=\"text-align: right;\">\n",
       "      <th></th>\n",
       "      <th>author</th>\n",
       "      <th>created_utc</th>\n",
       "      <th>num_comments</th>\n",
       "      <th>num_crossposts</th>\n",
       "      <th>score</th>\n",
       "      <th>selftext</th>\n",
       "      <th>subreddit</th>\n",
       "      <th>title</th>\n",
       "    </tr>\n",
       "  </thead>\n",
       "  <tbody>\n",
       "    <tr>\n",
       "      <th>0</th>\n",
       "      <td>bigjungus11</td>\n",
       "      <td>1610566951</td>\n",
       "      <td>1</td>\n",
       "      <td>0</td>\n",
       "      <td>1</td>\n",
       "      <td>[removed]</td>\n",
       "      <td>Fitness</td>\n",
       "      <td>Skinnyfat, should I eat more? Less?</td>\n",
       "    </tr>\n",
       "    <tr>\n",
       "      <th>1</th>\n",
       "      <td>Oz390</td>\n",
       "      <td>1610566886</td>\n",
       "      <td>0</td>\n",
       "      <td>0</td>\n",
       "      <td>1</td>\n",
       "      <td>[removed]</td>\n",
       "      <td>Fitness</td>\n",
       "      <td>Starting a new fitness programme</td>\n",
       "    </tr>\n",
       "    <tr>\n",
       "      <th>2</th>\n",
       "      <td>Bbxcs273</td>\n",
       "      <td>1610566718</td>\n",
       "      <td>1</td>\n",
       "      <td>0</td>\n",
       "      <td>1</td>\n",
       "      <td>[removed]</td>\n",
       "      <td>Fitness</td>\n",
       "      <td>Lifting for someone with a history of disorder...</td>\n",
       "    </tr>\n",
       "    <tr>\n",
       "      <th>3</th>\n",
       "      <td>Standard_Carrot_3820</td>\n",
       "      <td>1610566637</td>\n",
       "      <td>1</td>\n",
       "      <td>0</td>\n",
       "      <td>1</td>\n",
       "      <td>[removed]</td>\n",
       "      <td>Fitness</td>\n",
       "      <td>Calisthenics doesn't build muscle. Is there a ...</td>\n",
       "    </tr>\n",
       "    <tr>\n",
       "      <th>4</th>\n",
       "      <td>AppropriatePiccolo86</td>\n",
       "      <td>1610566123</td>\n",
       "      <td>1</td>\n",
       "      <td>0</td>\n",
       "      <td>1</td>\n",
       "      <td>[removed]</td>\n",
       "      <td>Fitness</td>\n",
       "      <td>Used to be a truck driver, help with leg</td>\n",
       "    </tr>\n",
       "  </tbody>\n",
       "</table>\n",
       "</div>"
      ],
      "text/plain": [
       "                 author  created_utc  num_comments  num_crossposts  score  \\\n",
       "0           bigjungus11   1610566951             1               0      1   \n",
       "1                 Oz390   1610566886             0               0      1   \n",
       "2              Bbxcs273   1610566718             1               0      1   \n",
       "3  Standard_Carrot_3820   1610566637             1               0      1   \n",
       "4  AppropriatePiccolo86   1610566123             1               0      1   \n",
       "\n",
       "    selftext subreddit                                              title  \n",
       "0  [removed]   Fitness                Skinnyfat, should I eat more? Less?  \n",
       "1  [removed]   Fitness                   Starting a new fitness programme  \n",
       "2  [removed]   Fitness  Lifting for someone with a history of disorder...  \n",
       "3  [removed]   Fitness  Calisthenics doesn't build muscle. Is there a ...  \n",
       "4  [removed]   Fitness           Used to be a truck driver, help with leg  "
      ]
     },
     "execution_count": 44,
     "metadata": {},
     "output_type": "execute_result"
    }
   ],
   "source": [
    "fitness_df.head()"
   ]
  },
  {
   "cell_type": "code",
   "execution_count": 45,
   "metadata": {},
   "outputs": [
    {
     "name": "stdout",
     "output_type": "stream",
     "text": [
      "<class 'pandas.core.frame.DataFrame'>\n",
      "Int64Index: 26000 entries, 0 to 99\n",
      "Data columns (total 8 columns):\n",
      " #   Column          Non-Null Count  Dtype \n",
      "---  ------          --------------  ----- \n",
      " 0   author          26000 non-null  object\n",
      " 1   created_utc     26000 non-null  int64 \n",
      " 2   num_comments    26000 non-null  int64 \n",
      " 3   num_crossposts  26000 non-null  int64 \n",
      " 4   score           26000 non-null  int64 \n",
      " 5   selftext        25622 non-null  object\n",
      " 6   subreddit       26000 non-null  object\n",
      " 7   title           26000 non-null  object\n",
      "dtypes: int64(4), object(4)\n",
      "memory usage: 1.8+ MB\n"
     ]
    }
   ],
   "source": [
    "fitness_df.info()"
   ]
  },
  {
   "cell_type": "code",
   "execution_count": 43,
   "metadata": {},
   "outputs": [],
   "source": [
    "#save to file\n",
    "fitness_df.to_csv('../Data/fitness.csv')"
   ]
  },
  {
   "cell_type": "markdown",
   "metadata": {},
   "source": [
    "## Bodyweight Fitness"
   ]
  },
  {
   "cell_type": "code",
   "execution_count": 58,
   "metadata": {},
   "outputs": [],
   "source": [
    "#instantiate dataframe before first run only\n",
    "#bodyweight_df = pd.DataFrame()"
   ]
  },
  {
   "cell_type": "code",
   "execution_count": 10,
   "metadata": {},
   "outputs": [
    {
     "data": {
      "text/html": [
       "<div>\n",
       "<style scoped>\n",
       "    .dataframe tbody tr th:only-of-type {\n",
       "        vertical-align: middle;\n",
       "    }\n",
       "\n",
       "    .dataframe tbody tr th {\n",
       "        vertical-align: top;\n",
       "    }\n",
       "\n",
       "    .dataframe thead th {\n",
       "        text-align: right;\n",
       "    }\n",
       "</style>\n",
       "<table border=\"1\" class=\"dataframe\">\n",
       "  <thead>\n",
       "    <tr style=\"text-align: right;\">\n",
       "      <th></th>\n",
       "      <th>author</th>\n",
       "      <th>created_utc</th>\n",
       "      <th>num_comments</th>\n",
       "      <th>num_crossposts</th>\n",
       "      <th>score</th>\n",
       "      <th>selftext</th>\n",
       "      <th>subreddit</th>\n",
       "      <th>title</th>\n",
       "    </tr>\n",
       "  </thead>\n",
       "  <tbody>\n",
       "    <tr>\n",
       "      <th>0</th>\n",
       "      <td>Luciferswife4life</td>\n",
       "      <td>1610570566</td>\n",
       "      <td>0</td>\n",
       "      <td>0</td>\n",
       "      <td>1</td>\n",
       "      <td>[removed]</td>\n",
       "      <td>bodyweightfitness</td>\n",
       "      <td>What lower body excercises can I do with bad k...</td>\n",
       "    </tr>\n",
       "    <tr>\n",
       "      <th>1</th>\n",
       "      <td>J22Charles</td>\n",
       "      <td>1610570222</td>\n",
       "      <td>0</td>\n",
       "      <td>0</td>\n",
       "      <td>1</td>\n",
       "      <td>Been doing cardio and resistance for year swit...</td>\n",
       "      <td>bodyweightfitness</td>\n",
       "      <td>Looking for supplement for lean muscle</td>\n",
       "    </tr>\n",
       "  </tbody>\n",
       "</table>\n",
       "</div>"
      ],
      "text/plain": [
       "              author  created_utc  num_comments  num_crossposts  score  \\\n",
       "0  Luciferswife4life   1610570566             0               0      1   \n",
       "1         J22Charles   1610570222             0               0      1   \n",
       "\n",
       "                                            selftext          subreddit  \\\n",
       "0                                          [removed]  bodyweightfitness   \n",
       "1  Been doing cardio and resistance for year swit...  bodyweightfitness   \n",
       "\n",
       "                                               title  \n",
       "0  What lower body excercises can I do with bad k...  \n",
       "1             Looking for supplement for lean muscle  "
      ]
     },
     "execution_count": 10,
     "metadata": {},
     "output_type": "execute_result"
    }
   ],
   "source": [
    "#read in existing data to start where left off\n",
    "bodyweight_df = pd.read_csv('../Data/bodyweight.csv', index_col=0)\n",
    "bodyweight_df.head(2)"
   ]
  },
  {
   "cell_type": "code",
   "execution_count": 68,
   "metadata": {},
   "outputs": [],
   "source": [
    "#parameters for request\n",
    "req_params = {\n",
    "    'url': 'https://api.pushshift.io/reddit/search/submission',\n",
    "    'subreddit': 'bodyweightfitness',\n",
    "    'size': 100,\n",
    "    'fields': ['subreddit','author','title','selftext','num_comments','num_crossposts','score','created_utc'],\n",
    "    'secs': 10\n",
    "}"
   ]
  },
  {
   "cell_type": "code",
   "execution_count": 62,
   "metadata": {},
   "outputs": [],
   "source": [
    "#current time for first run\n",
    "now = calendar.timegm(time.gmtime())"
   ]
  },
  {
   "cell_type": "code",
   "execution_count": 72,
   "metadata": {},
   "outputs": [],
   "source": [
    "#time for starting from where left off\n",
    "before = bodyweight_df.iloc[-1]['created_utc']"
   ]
  },
  {
   "cell_type": "code",
   "execution_count": 74,
   "metadata": {},
   "outputs": [
    {
     "name": "stdout",
     "output_type": "stream",
     "text": [
      "Complete\n"
     ]
    }
   ],
   "source": [
    "bodyweight_df = pd.concat([bodyweight_df, get_posts(9500, req_params, before)])"
   ]
  },
  {
   "cell_type": "code",
   "execution_count": 11,
   "metadata": {},
   "outputs": [
    {
     "data": {
      "text/plain": [
       "10000"
      ]
     },
     "execution_count": 11,
     "metadata": {},
     "output_type": "execute_result"
    }
   ],
   "source": [
    "len(bodyweight_df)"
   ]
  },
  {
   "cell_type": "code",
   "execution_count": 76,
   "metadata": {},
   "outputs": [
    {
     "data": {
      "text/html": [
       "<div>\n",
       "<style scoped>\n",
       "    .dataframe tbody tr th:only-of-type {\n",
       "        vertical-align: middle;\n",
       "    }\n",
       "\n",
       "    .dataframe tbody tr th {\n",
       "        vertical-align: top;\n",
       "    }\n",
       "\n",
       "    .dataframe thead th {\n",
       "        text-align: right;\n",
       "    }\n",
       "</style>\n",
       "<table border=\"1\" class=\"dataframe\">\n",
       "  <thead>\n",
       "    <tr style=\"text-align: right;\">\n",
       "      <th></th>\n",
       "      <th>author</th>\n",
       "      <th>created_utc</th>\n",
       "      <th>num_comments</th>\n",
       "      <th>num_crossposts</th>\n",
       "      <th>score</th>\n",
       "      <th>selftext</th>\n",
       "      <th>subreddit</th>\n",
       "      <th>title</th>\n",
       "    </tr>\n",
       "  </thead>\n",
       "  <tbody>\n",
       "    <tr>\n",
       "      <th>0</th>\n",
       "      <td>Luciferswife4life</td>\n",
       "      <td>1610570566</td>\n",
       "      <td>0</td>\n",
       "      <td>0</td>\n",
       "      <td>1</td>\n",
       "      <td>[removed]</td>\n",
       "      <td>bodyweightfitness</td>\n",
       "      <td>What lower body excercises can I do with bad k...</td>\n",
       "    </tr>\n",
       "    <tr>\n",
       "      <th>1</th>\n",
       "      <td>J22Charles</td>\n",
       "      <td>1610570222</td>\n",
       "      <td>0</td>\n",
       "      <td>0</td>\n",
       "      <td>1</td>\n",
       "      <td>Been doing cardio and resistance for year swit...</td>\n",
       "      <td>bodyweightfitness</td>\n",
       "      <td>Looking for supplement for lean muscle</td>\n",
       "    </tr>\n",
       "    <tr>\n",
       "      <th>2</th>\n",
       "      <td>theboxv6</td>\n",
       "      <td>1610569660</td>\n",
       "      <td>0</td>\n",
       "      <td>0</td>\n",
       "      <td>2</td>\n",
       "      <td>Late last year I began slacking on my workouts...</td>\n",
       "      <td>bodyweightfitness</td>\n",
       "      <td>Unilateral exercises got old fast, help needed</td>\n",
       "    </tr>\n",
       "    <tr>\n",
       "      <th>3</th>\n",
       "      <td>MailmanTom69</td>\n",
       "      <td>1610569504</td>\n",
       "      <td>0</td>\n",
       "      <td>0</td>\n",
       "      <td>1</td>\n",
       "      <td>I was doing pull-ups a lot and became very goo...</td>\n",
       "      <td>bodyweightfitness</td>\n",
       "      <td>Pull-ups suddenly became more difficult?</td>\n",
       "    </tr>\n",
       "    <tr>\n",
       "      <th>4</th>\n",
       "      <td>Easteregg316</td>\n",
       "      <td>1610569373</td>\n",
       "      <td>1</td>\n",
       "      <td>0</td>\n",
       "      <td>1</td>\n",
       "      <td>[removed]</td>\n",
       "      <td>bodyweightfitness</td>\n",
       "      <td>Stomach pains when doing reverse hyper extension?</td>\n",
       "    </tr>\n",
       "  </tbody>\n",
       "</table>\n",
       "</div>"
      ],
      "text/plain": [
       "              author  created_utc  num_comments  num_crossposts  score  \\\n",
       "0  Luciferswife4life   1610570566             0               0      1   \n",
       "1         J22Charles   1610570222             0               0      1   \n",
       "2           theboxv6   1610569660             0               0      2   \n",
       "3       MailmanTom69   1610569504             0               0      1   \n",
       "4       Easteregg316   1610569373             1               0      1   \n",
       "\n",
       "                                            selftext          subreddit  \\\n",
       "0                                          [removed]  bodyweightfitness   \n",
       "1  Been doing cardio and resistance for year swit...  bodyweightfitness   \n",
       "2  Late last year I began slacking on my workouts...  bodyweightfitness   \n",
       "3  I was doing pull-ups a lot and became very goo...  bodyweightfitness   \n",
       "4                                          [removed]  bodyweightfitness   \n",
       "\n",
       "                                               title  \n",
       "0  What lower body excercises can I do with bad k...  \n",
       "1             Looking for supplement for lean muscle  \n",
       "2     Unilateral exercises got old fast, help needed  \n",
       "3           Pull-ups suddenly became more difficult?  \n",
       "4  Stomach pains when doing reverse hyper extension?  "
      ]
     },
     "execution_count": 76,
     "metadata": {},
     "output_type": "execute_result"
    }
   ],
   "source": [
    "bodyweight_df.head()"
   ]
  },
  {
   "cell_type": "code",
   "execution_count": 77,
   "metadata": {},
   "outputs": [
    {
     "name": "stdout",
     "output_type": "stream",
     "text": [
      "<class 'pandas.core.frame.DataFrame'>\n",
      "Int64Index: 10000 entries, 0 to 99\n",
      "Data columns (total 8 columns):\n",
      " #   Column          Non-Null Count  Dtype \n",
      "---  ------          --------------  ----- \n",
      " 0   author          10000 non-null  object\n",
      " 1   created_utc     10000 non-null  int64 \n",
      " 2   num_comments    10000 non-null  int64 \n",
      " 3   num_crossposts  10000 non-null  int64 \n",
      " 4   score           10000 non-null  int64 \n",
      " 5   selftext        9961 non-null   object\n",
      " 6   subreddit       10000 non-null  object\n",
      " 7   title           10000 non-null  object\n",
      "dtypes: int64(4), object(4)\n",
      "memory usage: 703.1+ KB\n"
     ]
    }
   ],
   "source": [
    "bodyweight_df.info()"
   ]
  },
  {
   "cell_type": "code",
   "execution_count": 78,
   "metadata": {},
   "outputs": [],
   "source": [
    "#save to file\n",
    "bodyweight_df.to_csv('../Data/bodyweight.csv')"
   ]
  }
 ],
 "metadata": {
  "kernelspec": {
   "display_name": "Python 3",
   "language": "python",
   "name": "python3"
  },
  "language_info": {
   "codemirror_mode": {
    "name": "ipython",
    "version": 3
   },
   "file_extension": ".py",
   "mimetype": "text/x-python",
   "name": "python",
   "nbconvert_exporter": "python",
   "pygments_lexer": "ipython3",
   "version": "3.8.2"
  }
 },
 "nbformat": 4,
 "nbformat_minor": 4
}
